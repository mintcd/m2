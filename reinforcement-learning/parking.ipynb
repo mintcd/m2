{
 "cells": [
  {
   "cell_type": "code",
   "execution_count": 2,
   "metadata": {},
   "outputs": [
    {
     "data": {
      "text/plain": [
       "<module 'MDP' from 'i:\\\\My Drive\\\\ACSYON\\\\M2\\\\reinforcement-learning\\\\MDP.py'>"
      ]
     },
     "execution_count": 2,
     "metadata": {},
     "output_type": "execute_result"
    }
   ],
   "source": [
    "import numpy as np\n",
    "import importlib\n",
    "import MDP\n",
    "from MDP import HomoMDP\n",
    "\n",
    "importlib.reload(MDP)"
   ]
  },
  {
   "cell_type": "code",
   "execution_count": 46,
   "metadata": {},
   "outputs": [],
   "source": [
    "N = 10\n",
    "p = 0.8\n",
    "\n",
    "states = [\"terminal\"]\n",
    "\n",
    "for i in range(1, N+1):\n",
    "   states.extend([(\"free\", i), (\"parked\", i)])\n",
    "\n",
    "actions = [\"move\", \"park\"]\n",
    "\n",
    "responses = {}\n",
    "for state in states:\n",
    "  if state == \"terminal\": continue\n",
    "\n",
    "  avail, time = state\n",
    "  if time < N:\n",
    "    responses[(avail, time), \"move\"] = [((\"free\", time+1), p, 0), \n",
    "                                          ((\"parked\", time+1), 1-p, 0)]\n",
    "    if avail == 'free':   \n",
    "      responses[(avail, time), \"park\"] = [(\"terminal\", 1, time)]\n",
    "  else:\n",
    "    responses[(avail, time), \"park\"] = [(\"terminal\", 1, time)] if avail == 'free' else [(\"terminal\", 1, 0)]\n",
    "\n",
    "mdp = HomoMDP(name=\"Parking\", \n",
    "          states=states, \n",
    "          actions=actions, \n",
    "          responses=responses,\n",
    "          absorbing_states=[\"terminal\"])"
   ]
  },
  {
   "cell_type": "code",
   "execution_count": 47,
   "metadata": {},
   "outputs": [
    {
     "name": "stdout",
     "output_type": "stream",
     "text": [
      "Value iteration: converged after 7 iterations\n",
      "Last value {'terminal': 0, ('free', 1): 1, ('parked', 1): 2.249472, ('free', 2): 2, ('parked', 2): 3.2494080000000003, ('free', 3): 3, ('parked', 3): 4.249344, ('free', 4): 4, ('parked', 4): 5.24928, ('free', 5): 5, ('parked', 5): 6.2464, ('free', 6): 6, ('parked', 6): 7.232, ('free', 7): 7, ('parked', 7): 8.16, ('free', 8): 8, ('parked', 8): 8.8, ('free', 9): 9, ('parked', 9): 8.0, ('free', 10): 10, ('parked', 10): 0}\n"
     ]
    }
   ],
   "source": [
    "policy_value_iter = mdp.best_policy(method='value_iteration')"
   ]
  },
  {
   "cell_type": "code",
   "execution_count": 48,
   "metadata": {},
   "outputs": [
    {
     "data": {
      "text/plain": [
       "{'terminal': None,\n",
       " ('free', 1): 'move',\n",
       " ('parked', 1): 'move',\n",
       " ('free', 2): 'move',\n",
       " ('parked', 2): 'move',\n",
       " ('free', 3): 'move',\n",
       " ('parked', 3): 'move',\n",
       " ('free', 4): 'move',\n",
       " ('parked', 4): 'move',\n",
       " ('free', 5): 'move',\n",
       " ('parked', 5): 'move',\n",
       " ('free', 6): 'move',\n",
       " ('parked', 6): 'move',\n",
       " ('free', 7): 'move',\n",
       " ('parked', 7): 'move',\n",
       " ('free', 8): 'move',\n",
       " ('parked', 8): 'move',\n",
       " ('free', 9): 'park',\n",
       " ('parked', 9): 'move',\n",
       " ('free', 10): 'park',\n",
       " ('parked', 10): 'park'}"
      ]
     },
     "execution_count": 48,
     "metadata": {},
     "output_type": "execute_result"
    }
   ],
   "source": [
    "policy_value_iter"
   ]
  },
  {
   "cell_type": "code",
   "execution_count": 1,
   "metadata": {},
   "outputs": [
    {
     "data": {
      "text/plain": [
       "{0, 1, 2, 3, 4, 5, 6, 7, 8, 9}"
      ]
     },
     "execution_count": 1,
     "metadata": {},
     "output_type": "execute_result"
    }
   ],
   "source": [
    "set(i for i in range(10))"
   ]
  }
 ],
 "metadata": {
  "kernelspec": {
   "display_name": "general",
   "language": "python",
   "name": "python3"
  },
  "language_info": {
   "codemirror_mode": {
    "name": "ipython",
    "version": 3
   },
   "file_extension": ".py",
   "mimetype": "text/x-python",
   "name": "python",
   "nbconvert_exporter": "python",
   "pygments_lexer": "ipython3",
   "version": "3.12.3"
  }
 },
 "nbformat": 4,
 "nbformat_minor": 2
}
