{
 "cells": [
  {
   "cell_type": "code",
   "execution_count": 1,
   "metadata": {},
   "outputs": [],
   "source": [
    "import numpy as np"
   ]
  },
  {
   "cell_type": "code",
   "execution_count": 2,
   "metadata": {},
   "outputs": [],
   "source": [
    "def soft_threshold(x, lam):\n",
    "  return np.sign(x) * np.maximum(np.abs(x) - lam, 0)"
   ]
  },
  {
   "cell_type": "code",
   "execution_count": 3,
   "metadata": {},
   "outputs": [],
   "source": [
    "n = 5"
   ]
  },
  {
   "cell_type": "code",
   "execution_count": 8,
   "metadata": {},
   "outputs": [],
   "source": [
    "def soft_threshold_iteration(x0=np.random.rand(n), \n",
    "                             lam=1, \n",
    "                             tol=1e-5, \n",
    "                             max_iter=1000):\n",
    "  x = x0\n",
    "  diff = np.inf\n",
    "  for iter in range(max_iter):\n",
    "    x_new = soft_threshold(x, lam)\n",
    "    diff = np.linalg.norm(x_new - x)\n",
    "    \n",
    "    if diff < tol:\n",
    "      print(f\"Converged after {iter} iterations\")\n",
    "      break\n",
    "\n",
    "    x = x_new  \n",
    "    \n",
    "  return x, iter, diff"
   ]
  },
  {
   "cell_type": "code",
   "execution_count": 9,
   "metadata": {},
   "outputs": [
    {
     "name": "stdout",
     "output_type": "stream",
     "text": [
      "Converged after 1 iterations\n"
     ]
    }
   ],
   "source": [
    "x, iter, diff = soft_threshold_iteration()"
   ]
  }
 ],
 "metadata": {
  "kernelspec": {
   "display_name": "general",
   "language": "python",
   "name": "python3"
  },
  "language_info": {
   "codemirror_mode": {
    "name": "ipython",
    "version": 3
   },
   "file_extension": ".py",
   "mimetype": "text/x-python",
   "name": "python",
   "nbconvert_exporter": "python",
   "pygments_lexer": "ipython3",
   "version": "3.12.3"
  }
 },
 "nbformat": 4,
 "nbformat_minor": 2
}
