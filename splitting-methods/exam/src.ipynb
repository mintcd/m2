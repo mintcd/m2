{
 "cells": [
  {
   "cell_type": "code",
   "execution_count": 1,
   "metadata": {},
   "outputs": [],
   "source": [
    "import numpy as np"
   ]
  },
  {
   "cell_type": "code",
   "execution_count": 2,
   "metadata": {},
   "outputs": [],
   "source": [
    "def soft_threshold(x, lam):\n",
    "  return np.sign(x) * np.maximum(np.abs(x) - lam, 0)"
   ]
  },
  {
   "cell_type": "code",
   "execution_count": 3,
   "metadata": {},
   "outputs": [],
   "source": [
    "n = 5"
   ]
  },
  {
   "cell_type": "code",
   "execution_count": 6,
   "metadata": {},
   "outputs": [],
   "source": [
    "def soft_threshold_iteration(x0=np.random.rand(n), \n",
    "                             lam=1, \n",
    "                             tol=1e-5, \n",
    "                             max_iter=1000):\n",
    "  x = x0\n",
    "  diff = np.inf\n",
    "  for iter in range(max_iter):\n",
    "    x_new = soft_threshold(x, lam)\n",
    "    diff = np.linalg.norm(x_new - x)\n",
    "    \n",
    "    if diff < tol:\n",
    "      print(f\"Converged after {iter} iterations\")\n",
    "      break\n",
    "\n",
    "    x = x_new  \n",
    "    \n",
    "  return x, iter, diff"
   ]
  },
  {
   "cell_type": "code",
   "execution_count": 7,
   "metadata": {},
   "outputs": [
    {
     "ename": "ValueError",
     "evalue": "The truth value of an array with more than one element is ambiguous. Use a.any() or a.all()",
     "output_type": "error",
     "traceback": [
      "\u001b[1;31m---------------------------------------------------------------------------\u001b[0m",
      "\u001b[1;31mValueError\u001b[0m                                Traceback (most recent call last)",
      "Cell \u001b[1;32mIn[7], line 1\u001b[0m\n\u001b[1;32m----> 1\u001b[0m x, \u001b[38;5;28miter\u001b[39m, diff \u001b[38;5;241m=\u001b[39m \u001b[43msoft_threshold_iteration\u001b[49m\u001b[43m(\u001b[49m\u001b[43m)\u001b[49m\n",
      "Cell \u001b[1;32mIn[6], line 11\u001b[0m, in \u001b[0;36msoft_threshold_iteration\u001b[1;34m(x0, lam, tol, max_iter)\u001b[0m\n\u001b[0;32m      8\u001b[0m x_new \u001b[38;5;241m=\u001b[39m soft_threshold(x, lam)\n\u001b[0;32m      9\u001b[0m diff \u001b[38;5;241m=\u001b[39m x_new \u001b[38;5;241m-\u001b[39m x\n\u001b[1;32m---> 11\u001b[0m \u001b[38;5;28;01mif\u001b[39;00m diff \u001b[38;5;241m<\u001b[39m tol:\n\u001b[0;32m     12\u001b[0m   \u001b[38;5;28mprint\u001b[39m(\u001b[38;5;124mf\u001b[39m\u001b[38;5;124m\"\u001b[39m\u001b[38;5;124mConverged after \u001b[39m\u001b[38;5;132;01m{\u001b[39;00m\u001b[38;5;28miter\u001b[39m\u001b[38;5;132;01m}\u001b[39;00m\u001b[38;5;124m iterations\u001b[39m\u001b[38;5;124m\"\u001b[39m)\n\u001b[0;32m     13\u001b[0m   \u001b[38;5;28;01mbreak\u001b[39;00m\n",
      "\u001b[1;31mValueError\u001b[0m: The truth value of an array with more than one element is ambiguous. Use a.any() or a.all()"
     ]
    }
   ],
   "source": [
    "x, iter, diff = soft_threshold_iteration()"
   ]
  }
 ],
 "metadata": {
  "kernelspec": {
   "display_name": "general",
   "language": "python",
   "name": "python3"
  },
  "language_info": {
   "codemirror_mode": {
    "name": "ipython",
    "version": 3
   },
   "file_extension": ".py",
   "mimetype": "text/x-python",
   "name": "python",
   "nbconvert_exporter": "python",
   "pygments_lexer": "ipython3",
   "version": "3.12.3"
  }
 },
 "nbformat": 4,
 "nbformat_minor": 2
}
