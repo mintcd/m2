{
 "cells": [
  {
   "cell_type": "code",
   "execution_count": 195,
   "metadata": {},
   "outputs": [],
   "source": [
    "import numpy as np\n",
    "from numpy.linalg import norm, inv\n",
    "import matplotlib.pyplot as plt\n",
    "from time import time"
   ]
  },
  {
   "cell_type": "markdown",
   "metadata": {},
   "source": [
    "# Chapter 2 Practical Works"
   ]
  },
  {
   "cell_type": "markdown",
   "metadata": {},
   "source": [
    "### Exercise 1 \n",
    "Consider the Tikhonov regularization problem given by\n",
    "$$\\min\\limits_{x\\in\\mathbb{R}^d} f(x) = \\dfrac{1}{2}\\|Ax-b\\|^2 + \\dfrac{\\gamma}{2}\\|x\\|^2.$$"
   ]
  },
  {
   "cell_type": "code",
   "execution_count": 212,
   "metadata": {},
   "outputs": [],
   "source": [
    "np.random.seed(42) \n",
    "m, n = 100, 50 \n",
    "A = np.random.randn(m, n) \n",
    "b = np.random.randn(m, 1)\n",
    "\n",
    "gamma = 0.5\n",
    "\n",
    "g = lambda x: norm(A@x - b)**2/2\n",
    "\n",
    "# Choose the optimal lambda\n",
    "L = np.linalg.norm(A.T @ A, 2)\n",
    "_lambda = 1/L"
   ]
  },
  {
   "cell_type": "markdown",
   "metadata": {},
   "source": [
    "#### 1. Discuss the objective of the Tikhonov regularization problem, and give an interpretation of the parameter \n",
    "\n",
    "We can interpret the regularizer $\\dfrac{\\gamma}{2}\\|x\\|^2$ as to penalize on the norm of $x$. In other words, it forces the solution to have smaller norm. When $\\gamma$ is large, the penalization is more intense."
   ]
  },
  {
   "cell_type": "markdown",
   "metadata": {},
   "source": [
    "#### 2. Solve the problem using Gradient descent, Proximal point, Proximal gradient and Douglas-Rachford algorithms\n",
    "\n",
    "We will work on the generalized problem where\n",
    "\n",
    "$$f(x) = \\dfrac{1}{2}\\|Ax-b\\|^2 + \\dfrac{1}{2}\\|Bx\\|^2.$$\n",
    "\n",
    " In the special case, we have $B^\\top B = \\gamma I$. Let\n",
    "    $$g(x) = \\dfrac{1}{2}\\|Ax-b\\|^2$$\n",
    "    and \n",
    "    $$h_2(x) = \\dfrac{1}{2}\\|Bx\\|^2.$$"
   ]
  },
  {
   "cell_type": "code",
   "execution_count": 164,
   "metadata": {},
   "outputs": [],
   "source": [
    "h2 = lambda x: gamma*norm(x)/2\n",
    "f = lambda x: g(x) + h2(x)"
   ]
  },
  {
   "cell_type": "markdown",
   "metadata": {},
   "source": [
    "##### Gradient descent\n",
    "\n",
    "We have\n",
    "$$\\nabla g(x) = A^\\top (Ax- b), \\nabla h_2(x) = B^\\top Bx.$$\n",
    "\n",
    "Hence, we can compute $\\nabla f(x) = \\nabla g(x) + \\nabla h_2(x)$.\n"
   ]
  },
  {
   "cell_type": "code",
   "execution_count": 165,
   "metadata": {},
   "outputs": [],
   "source": [
    "grad_g = lambda x: A.T@(A@x-b)\n",
    "grad_h2 = lambda x: gamma*x\n",
    "\n",
    "grad_f = lambda x: grad_g(x) + grad_h2(x)"
   ]
  },
  {
   "cell_type": "code",
   "execution_count": 207,
   "metadata": {},
   "outputs": [],
   "source": [
    "def gradient_descent(f, grad_f, \n",
    "                     x0=np.random.randn(n,1), \n",
    "                     lr=0.0001, tol = 0.1, max_iter = int(1e6),\n",
    "                     plot=True):\n",
    "  \n",
    "  start = time()\n",
    "\n",
    "  iter = 0\n",
    "  x = x0\n",
    "  history = [x0]\n",
    "\n",
    "  for iter in range(max_iter):\n",
    "    x_new = x - lr*grad_f(x)\n",
    "    history.append(x_new)\n",
    "\n",
    "    diff = np.abs(f(x) - f(x_new))\n",
    "\n",
    "    if diff < tol:\n",
    "      print(f\"Terminated after {iter} iterations. Time: {time()-start}s\")\n",
    "      print(f\"Final difference: {diff}\")\n",
    "      break\n",
    "\n",
    "    x = x_new\n",
    "\n",
    "  if plot:\n",
    "    plt.plot([f(x) for x in history])\n",
    "    plt.xlabel('Iteration')\n",
    "    plt.ylabel('$f(x)$')\n",
    "\n",
    "    plt.show()\n",
    "    \n",
    "\n",
    "  return x"
   ]
  },
  {
   "cell_type": "code",
   "execution_count": 208,
   "metadata": {},
   "outputs": [
    {
     "name": "stdout",
     "output_type": "stream",
     "text": [
      "Terminated after 2046 iterations. Time: 0.04997611045837402s\n",
      "Final difference: 0.09976597875356674\n"
     ]
    },
    {
     "data": {
      "image/png": "[encoded data removed]",
      "text/plain": [
       "<Figure size 640x480 with 1 Axes>"
      ]
     },
     "metadata": {},
     "output_type": "display_data"
    }
   ],
   "source": [
    "x_opt = gradient_descent(f, grad_f)"
   ]
  },
  {
   "cell_type": "markdown",
   "metadata": {},
   "source": [
    "##### Proximal point\n",
    "We have\n",
    "$$\\begin{aligned}\n",
    "y\\in \\mathrm{prox}_{\\lambda f} (x) \n",
    "& \\Leftrightarrow x = y + \\nabla f(y) \\\\\n",
    "& \\Leftrightarrow x = y + \\lambda(A^\\top (Ay- b) + B^\\top By) \\\\\n",
    "& \\Leftrightarrow \\dfrac{1}{\\lambda}x = \\dfrac{1}{\\lambda}y + (A^\\top A+B^\\top B)y - A^\\top b \\\\\n",
    "& \\Leftrightarrow y = \\left(A^\\top A + B^\\top B + \\dfrac{1}{\\lambda}I\\right)^{-1}\\left(A^\\top b+\\dfrac{1}{\\lambda}x\\right).\n",
    "\\end{aligned}$$\n"
   ]
  },
  {
   "cell_type": "code",
   "execution_count": 213,
   "metadata": {},
   "outputs": [],
   "source": [
    "def prox_f(x):\n",
    "    return inv(A.T@A + (gamma + 1/_lambda)*np.eye(n))@(A.T@b + x/_lambda)"
   ]
  },
  {
   "cell_type": "code",
   "execution_count": null,
   "metadata": {},
   "outputs": [],
   "source": [
    "def proximal_point(f, prox_f, \n",
    "                   x0 = np.random.randn(n,1), \n",
    "                   tol=1e-6, max_iter=int(1e6), plot=True):\n",
    "  \n",
    "  start = time()\n",
    "\n",
    "  iter = 0\n",
    "  x = x0\n",
    "  history = [x0]\n",
    "\n",
    "  for iter in range(max_iter):\n",
    "    x_new = prox_f(x)\n",
    "\n",
    "    history.append(x_new)\n",
    "    diff = np.abs(f(x_new) - f(x))\n",
    "\n",
    "    if diff < tol:\n",
    "      print(f\"Terminated after {iter} iterations. Time: {time() - start}s\")\n",
    "      print(f\"Final difference: {diff}\")\n",
    "      break\n",
    "\n",
    "\n",
    "    x = x_new\n",
    "\n",
    "  if iter == max_iter - 1: print(f\"Reached maximal {iter} iterations\")\n",
    "  if plot:\n",
    "    plt.plot([f(x) for x in history])\n",
    "    plt.xlabel('Iteration')\n",
    "    plt.ylabel('$f(x)$')\n",
    "\n",
    "    plt.show()\n",
    "  return x"
   ]
  },
  {
   "cell_type": "code",
   "execution_count": 211,
   "metadata": {},
   "outputs": [
    {
     "name": "stdout",
     "output_type": "stream",
     "text": [
      "Terminated after 357 iterations. Time: 0.0784907341003418s\n",
      "Final difference: 9.865034371614456e-07\n"
     ]
    },
    {
     "data": {
      "image/png": "[encoded data removed]",
      "text/plain": [
       "<Figure size 640x480 with 1 Axes>"
      ]
     },
     "metadata": {},
     "output_type": "display_data"
    }
   ],
   "source": [
    "x_opt = proximal_point(f, prox_f)"
   ]
  },
  {
   "cell_type": "markdown",
   "metadata": {},
   "source": [
    "##### Proximal gradient\n",
    "\n",
    "We have $\\mathrm{prox}_{\\lambda h_2}(x) = \\dfrac{1}{1+\\lambda\\gamma}(x)$"
   ]
  },
  {
   "cell_type": "code",
   "execution_count": 215,
   "metadata": {},
   "outputs": [],
   "source": [
    "def proximal_gradient(f,  \n",
    "                      grad_g, prox_h, \n",
    "                      x0 = np.random.randn(n,1), \n",
    "                      tol = 1e-6, max_iter=int(1e6), plot=True):\n",
    "  \n",
    "  start = time()\n",
    "\n",
    "  iter = 0\n",
    "  x = x0\n",
    "  history = [x0]\n",
    "\n",
    "  for iter in range(max_iter):\n",
    "    x_new = prox_h(x - _lambda*grad_g(x))\n",
    "\n",
    "    history.append(x_new)\n",
    "    diff = np.abs(f(x_new) - f(x))\n",
    "\n",
    "    if diff < tol:\n",
    "      print(f\"Terminated after {iter} iterations. Time: {time()-start}s\")\n",
    "      print(f\"Final difference: {diff}\")\n",
    "      break\n",
    "    \n",
    "    x = x_new\n",
    "\n",
    "  if iter == max_iter - 1: print(f\"Reached maximal {iter} iterations\")\n",
    "  if plot:\n",
    "    plt.plot([f(x) for x in history])\n",
    "    plt.xlabel('Iteration')\n",
    "    plt.ylabel('$f(x)$')\n",
    "\n",
    "    plt.show()\n",
    "\n",
    "  return x"
   ]
  },
  {
   "cell_type": "code",
   "execution_count": 219,
   "metadata": {},
   "outputs": [
    {
     "name": "stdout",
     "output_type": "stream",
     "text": [
      "Terminated after 218 iterations. Time: 0.004865884780883789s\n",
      "Final difference: 9.72636115648129e-07\n"
     ]
    },
    {
     "data": {
      "image/png": "[encoded data removed]",
      "text/plain": [
       "<Figure size 640x480 with 1 Axes>"
      ]
     },
     "metadata": {},
     "output_type": "display_data"
    }
   ],
   "source": [
    "prox_h2 = lambda x: x/(1+_lambda*gamma)\n",
    "x_opt = proximal_gradient(f, grad_g, prox_h2)"
   ]
  },
  {
   "cell_type": "markdown",
   "metadata": {},
   "source": [
    "##### Douglas-Rachford\n",
    "We have $\\mathrm{prox}_{\\lambda g}(x) = \\left(A^\\top A + \\dfrac{1}{\\lambda} I\\right)^{-1}\\left(A^\\top b + \\dfrac{1}{\\lambda}x\\right)$.\n",
    "\n",
    "Therefore, $\\mathrm{refl}_{\\mathrm{prox}_{\\lambda g}}(x) = 2\\mathrm{prox}_{\\lambda g}(x)-x$ and $\\mathrm{refl}_{\\mathrm{prox}_{\\lambda h_2}}(x) = (1-2\\lambda\\gamma)x$"
   ]
  },
  {
   "cell_type": "code",
   "execution_count": 222,
   "metadata": {},
   "outputs": [],
   "source": [
    "def douglas_rachford(f, \n",
    "                     prox_g, refl_g, refl_h, \n",
    "                     y0 = np.random.randn(A.shape[1],1),\n",
    "                     tol = 1e-6, max_iter=int(1e6), plot=True):\n",
    "  start = time()\n",
    "  y = y0\n",
    "  x = prox_g(y)\n",
    "  history = [x]\n",
    "\n",
    "  for iter in range(max_iter):\n",
    "    y = (y + refl_h(refl_g(y)))/2\n",
    "    x_new = prox_g(y)\n",
    "\n",
    "    history.append(x_new)\n",
    "\n",
    "    diff = np.abs(f(x_new) - f(x))\n",
    "\n",
    "    if diff < tol:\n",
    "      print(f\"Terminated after {iter} iterations. Time: {time()-start}s\")\n",
    "      print(f\"Final difference: {diff}\")\n",
    "      break\n",
    "   \n",
    "    x = x_new\n",
    "  \n",
    "  if iter == max_iter - 1: print(f\"Reached maximal {max_iter} iterations\")\n",
    "  if plot:\n",
    "    plt.plot([f(x) for x in history])\n",
    "    plt.xlabel('Iteration')\n",
    "    plt.ylabel('$f(x)$')\n",
    "\n",
    "    plt.show()\n",
    "  return x"
   ]
  },
  {
   "cell_type": "code",
   "execution_count": 225,
   "metadata": {},
   "outputs": [
    {
     "name": "stdout",
     "output_type": "stream",
     "text": [
      "Terminated after 122 iterations. Time: 0.0384364128112793s\n",
      "Final difference: 8.660540835592201e-07\n"
     ]
    },
    {
     "data": {
      "image/png": "[encoded data removed]",
      "text/plain": [
       "<Figure size 640x480 with 1 Axes>"
      ]
     },
     "metadata": {},
     "output_type": "display_data"
    }
   ],
   "source": [
    "h2 = lambda x: gamma*norm(x)/2\n",
    "f = lambda x: g(x) + h2(x)\n",
    "\n",
    "def prox_g(x):\n",
    "  return inv(A.T@A + np.eye(n)/_lambda)@(A.T@b + x/_lambda)\n",
    "\n",
    "def refl_g(x):\n",
    "  return 2*prox_g(x) - x\n",
    "\n",
    "\n",
    "def refl_h2(x):\n",
    "  return 2*prox_h2(x) - x\n",
    "\n",
    "x_opt = douglas_rachford(f, prox_h2, refl_h2, refl_g)"
   ]
  },
  {
   "cell_type": "markdown",
   "metadata": {},
   "source": [
    "#### 3. Compare the convergence rates of the four codes.\n",
    "\n",
    "It is not plausible to compare Gradient descent with the others because the meaning of learning rates are different. Among, Proximal point, Proximal gradient and Douglas-Rachford's with optimal learning rate $\\lambda = \\dfrac{1}{L}$, using that $g$ is $L$-Lipschitz, we can see that Proximal gradient consume least time, as it makes uses of both gradient and proximity comparing to Proximal point, while computes less that Douglas-Rachford's in each iteration."
   ]
  },
  {
   "cell_type": "markdown",
   "metadata": {},
   "source": [
    "#### 4. Provide a code to solve the general problem\n",
    "\n",
    "We shall use gradient descent"
   ]
  },
  {
   "cell_type": "code",
   "execution_count": 226,
   "metadata": {},
   "outputs": [
    {
     "name": "stdout",
     "output_type": "stream",
     "text": [
      "Terminated after 242 iterations. Time: 0.02707529067993164s\n",
      "Final difference: 0.09903714566454624\n"
     ]
    },
    {
     "data": {
      "image/png": "[encoded data removed]",
      "text/plain": [
       "<Figure size 640x480 with 1 Axes>"
      ]
     },
     "metadata": {},
     "output_type": "display_data"
    }
   ],
   "source": [
    "p = 50\n",
    "B = np.random.randn(p, n)\n",
    "\n",
    "h2 = lambda x: norm(B@x)/2\n",
    "grad_h2 = lambda x: B.T@B@x\n",
    "\n",
    "f = lambda x: g(x) + h2(x)\n",
    "grad_f = lambda x: grad_g(x) + grad_h2(x)\n",
    "\n",
    "x_opt = gradient_descent(f, grad_f)"
   ]
  },
  {
   "cell_type": "markdown",
   "metadata": {},
   "source": [
    "#### 5. Discuss the objective of the generalized Tikhonov regularization problem, and give an interpretation of the matrix $B$.\n",
    "\n",
    "The use of a matrix instead of a constant raises more flexibility for regularization. This can be applied when we especially want to to enforce smoothness if the underlying vector is believed to be mostly continuous."
   ]
  },
  {
   "cell_type": "markdown",
   "metadata": {},
   "source": [
    "### Exercise 2"
   ]
  },
  {
   "cell_type": "markdown",
   "metadata": {},
   "source": [
    "####\n",
    "1. Why is the last term $\\gamma\\|x\\|_1$ usually called the sparsity enforcement? Make a drawing in the two-dimensional case for illustration.\n",
    "2. Discuss the objective of the LASSO problem, and give an interpretation of the parameter.\n",
    "\n",
    "  \n",
    "  As the name LASSO (Least Absolute Shrinkage and Selection Operator) suggests, the term \"sparsity enforcement\" reflects LASSO's ability to encourage simpler models with fewer active features, which is particularly valuable in high-dimensional datasets. In other words, it forces as many as possible numbers of features to be zero. As $\\gamma$ is larger, the selection enforcement is more intense."
   ]
  },
  {
   "cell_type": "markdown",
   "metadata": {},
   "source": [
    "#### 3. Solve the problem using Proximal gradient and Douglas-Rachford"
   ]
  },
  {
   "cell_type": "markdown",
   "metadata": {},
   "source": [
    "##### Proximal gradient\n",
    "\n",
    "Let $h_1 = \\gamma\\|x\\|_1$. We have $\\mathrm{prox}_{\\lambda h_1}(x)_i = \\mathrm{sign}(x_i)\\max(|x_i|-\\lambda\\gamma, 0)$."
   ]
  },
  {
   "cell_type": "code",
   "execution_count": 175,
   "metadata": {},
   "outputs": [
    {
     "name": "stdout",
     "output_type": "stream",
     "text": [
      "Terminated after 113 iterations\n",
      "Final difference: 9.740356361476188e-07\n"
     ]
    }
   ],
   "source": [
    "def soft_threshold(x, lam):\n",
    "    return np.sign(x) * np.maximum(np.abs(x) - lam, 0)\n",
    "\n",
    "h1 = lambda x: gamma*norm(x, 1)\n",
    "prox_h1 = lambda x: soft_threshold(x, gamma*_lambda)\n",
    "f = lambda x: g(x) + h1(x)\n",
    "\n",
    "L = np.linalg.norm(A.T @ A, 2)\n",
    "_lambda = 1/L\n",
    "x_opt, history = proximal_gradient(f, grad_g, prox_h1)"
   ]
  },
  {
   "cell_type": "markdown",
   "metadata": {},
   "source": [
    "##### Douglas-Rachford"
   ]
  },
  {
   "cell_type": "code",
   "execution_count": 176,
   "metadata": {},
   "outputs": [
    {
     "name": "stdout",
     "output_type": "stream",
     "text": [
      "Terminated after 124 iterations\n",
      "Final difference: 9.908578775252863e-07\n"
     ]
    }
   ],
   "source": [
    "refl_h1 = lambda x: 2*prox_h1(x) - x\n",
    "x_opt, history = douglas_rachford(f, prox_g, refl_g, refl_h1)"
   ]
  },
  {
   "cell_type": "markdown",
   "metadata": {},
   "source": [
    "### Exercise 3"
   ]
  },
  {
   "cell_type": "code",
   "execution_count": 182,
   "metadata": {},
   "outputs": [],
   "source": [
    "b = plt.imread(r\"blurred.jpg\").reshape(-1, 1)"
   ]
  },
  {
   "cell_type": "markdown",
   "metadata": {},
   "source": [
    "####\n",
    "3. By using this objective function, we hypothesized that the original image has continuous gradient (difference between adjacent pixels). The first element is to find the nearest image, the second element is for continuous gradient hypothesis."
   ]
  },
  {
   "cell_type": "markdown",
   "metadata": {},
   "source": [
    "#### 4. Construct the matrix $F$."
   ]
  },
  {
   "cell_type": "code",
   "execution_count": 189,
   "metadata": {},
   "outputs": [],
   "source": [
    "F1 = np.zeros([100, 100])\n",
    "\n",
    "for i in range(100):\n",
    "  if i % 10 != 9:\n",
    "    F1[i, i] = 1\n",
    "    F1[i, i+1] = -1\n",
    "\n",
    "F2 = np.zeros([100, 100])\n",
    "\n",
    "for i in range(100):\n",
    "  if i < 90:\n",
    "    F2[i, i] = 1\n",
    "    F2[i, i+10] = -1\n",
    "\n",
    "F = np.vstack([F1, F2])"
   ]
  },
  {
   "cell_type": "markdown",
   "metadata": {},
   "source": [
    "####"
   ]
  }
 ],
 "metadata": {
  "kernelspec": {
   "display_name": "general",
   "language": "python",
   "name": "python3"
  },
  "language_info": {
   "codemirror_mode": {
    "name": "ipython",
    "version": 3
   },
   "file_extension": ".py",
   "mimetype": "text/x-python",
   "name": "python",
   "nbconvert_exporter": "python",
   "pygments_lexer": "ipython3",
   "version": "3.12.3"
  }
 },
 "nbformat": 4,
 "nbformat_minor": 2
}
