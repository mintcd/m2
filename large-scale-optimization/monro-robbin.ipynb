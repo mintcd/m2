{
 "cells": [
  {
   "cell_type": "code",
   "execution_count": 31,
   "metadata": {},
   "outputs": [],
   "source": [
    "import math\n",
    "from scipy.stats import norm\n",
    "import numpy as np"
   ]
  },
  {
   "cell_type": "markdown",
   "metadata": {},
   "source": [
    "### Test with a satisfied case"
   ]
  },
  {
   "cell_type": "code",
   "execution_count": 46,
   "metadata": {},
   "outputs": [],
   "source": [
    "def F(x): \n",
    "    eval = 3*x*x + np.random.normal(0, 0.2)\n",
    "    return 1 if eval > 1 else eval\n",
    "\n",
    "alpha = 1/2\n",
    "a = lambda n: 1/n"
   ]
  },
  {
   "cell_type": "code",
   "execution_count": 48,
   "metadata": {},
   "outputs": [
    {
     "name": "stdout",
     "output_type": "stream",
     "text": [
      "0.40837845653608285\n"
     ]
    }
   ],
   "source": [
    "x = [0]\n",
    "for i in range(1, 1000000):\n",
    "    x.append(x[-1] + a(i)*(alpha - F(x[-1])))\n",
    "\n",
    "print(x[-1])"
   ]
  },
  {
   "cell_type": "markdown",
   "metadata": {},
   "source": [
    "### Test with Gaussian distribution"
   ]
  },
  {
   "cell_type": "code",
   "execution_count": 17,
   "metadata": {},
   "outputs": [],
   "source": [
    "Gauss = lambda x: norm.cdf(x, 1, 1)"
   ]
  },
  {
   "cell_type": "code",
   "execution_count": 30,
   "metadata": {},
   "outputs": [
    {
     "name": "stdout",
     "output_type": "stream",
     "text": [
      "0.9922070394098941\n"
     ]
    }
   ],
   "source": [
    "x = [0]\n",
    "for i in range(1, 100000):\n",
    "    x.append(x[-1] + a(i)*(alpha - Gauss(x[-1])))\n",
    "\n",
    "print(x[-1])"
   ]
  },
  {
   "cell_type": "markdown",
   "metadata": {},
   "source": [
    "### Test with non-harmonic sequence"
   ]
  },
  {
   "cell_type": "code",
   "execution_count": 19,
   "metadata": {},
   "outputs": [],
   "source": [
    "b = lambda n: 1/(n*n)"
   ]
  },
  {
   "cell_type": "code",
   "execution_count": 27,
   "metadata": {},
   "outputs": [
    {
     "name": "stdout",
     "output_type": "stream",
     "text": [
      "0.4183346248531409\n"
     ]
    }
   ],
   "source": [
    "x = [0]\n",
    "for i in range(1, 10000):\n",
    "    x.append(x[-1] + b(i)*(alpha - F(x[-1])))\n",
    "\n",
    "print(x[-1])"
   ]
  }
 ],
 "metadata": {
  "kernelspec": {
   "display_name": "Python 3",
   "language": "python",
   "name": "python3"
  },
  "language_info": {
   "codemirror_mode": {
    "name": "ipython",
    "version": 3
   },
   "file_extension": ".py",
   "mimetype": "text/x-python",
   "name": "python",
   "nbconvert_exporter": "python",
   "pygments_lexer": "ipython3",
   "version": "3.10.12"
  }
 },
 "nbformat": 4,
 "nbformat_minor": 2
}
