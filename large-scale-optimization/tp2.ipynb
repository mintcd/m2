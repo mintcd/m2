{
 "cells": [
  {
   "cell_type": "code",
   "execution_count": 5,
   "metadata": {},
   "outputs": [],
   "source": [
    "import numpy as np\n",
    "import matplotlib.pyplot as plt\n",
    "from time import time"
   ]
  },
  {
   "cell_type": "markdown",
   "metadata": {},
   "source": [
    "# Exercise 1"
   ]
  },
  {
   "cell_type": "markdown",
   "metadata": {},
   "source": [
    "#### 1. Create $A$ and $b$"
   ]
  },
  {
   "cell_type": "code",
   "execution_count": 6,
   "metadata": {},
   "outputs": [],
   "source": [
    "n = 20\n",
    "A = np.zeros((n, n))\n",
    "\n",
    "# Assign for the first and last rows\n",
    "A[0, 0] = 2\n",
    "A[0, 1] = -1\n",
    "A[-1, -1] = -1\n",
    "A[-1, -2] = 2\n",
    "\n",
    "# Assign for other rows\n",
    "for i in range(1, n-1):\n",
    "  A[i, i] = 2\n",
    "  A[i, i-1] = -1\n",
    "  A[i, i+1] = -1\n",
    "\n",
    "b = np.ones((n, 1))"
   ]
  },
  {
   "cell_type": "markdown",
   "metadata": {},
   "source": [
    "#### 2. Compute $f$ and $\\nabla f$"
   ]
  },
  {
   "cell_type": "code",
   "execution_count": 7,
   "metadata": {},
   "outputs": [],
   "source": [
    "def f(x):\n",
    "    return np.average((A@x - b)**2)\n",
    "\n",
    "def grad_f(x):\n",
    "    return A.T@(A@x - b)/n"
   ]
  },
  {
   "cell_type": "code",
   "execution_count": 8,
   "metadata": {},
   "outputs": [
    {
     "data": {
      "text/plain": [
       "1.0"
      ]
     },
     "execution_count": 8,
     "metadata": {},
     "output_type": "execute_result"
    }
   ],
   "source": [
    "x0 = np.zeros((n,1))\n",
    "f(x0)"
   ]
  },
  {
   "cell_type": "markdown",
   "metadata": {},
   "source": [
    "#### 3. Solve using deterministic gradient descent\n",
    "$$x_{k+1} = x_{k} - \\alpha\\nabla f(x_{k})$$\n",
    "with stop criterion $f(x_{k}) < \\epsilon.$ Try with different values of $\\alpha$."
   ]
  },
  {
   "cell_type": "code",
   "execution_count": 9,
   "metadata": {},
   "outputs": [],
   "source": [
    "def gradient_descent(x0 = np.zeros((n,1)), alpha=0.1, epsilon = 0.1):\n",
    "  iter = 0\n",
    "  x_opt = x0\n",
    "  history = [x0]\n",
    "\n",
    "  while f(x_opt) >= epsilon:\n",
    "    x_opt = x_opt - alpha*grad_f(x_opt)\n",
    "\n",
    "    history.append(x_opt)\n",
    "    iter += 1\n",
    "  \n",
    "  print(f\"Terminated after {iter} iterations\")\n",
    "  print(f\"Final error: {f(x_opt)}\")\n",
    "  return x_opt, history"
   ]
  },
  {
   "cell_type": "code",
   "execution_count": 10,
   "metadata": {},
   "outputs": [
    {
     "name": "stdout",
     "output_type": "stream",
     "text": [
      "Terminated after 220146 iterations\n",
      "Final error: 0.09999926514145466\n"
     ]
    }
   ],
   "source": [
    "x_opt, history = gradient_descent(alpha=0.1, epsilon=0.1)"
   ]
  },
  {
   "cell_type": "code",
   "execution_count": 11,
   "metadata": {},
   "outputs": [
    {
     "name": "stdout",
     "output_type": "stream",
     "text": [
      "Terminated after 440291 iterations\n",
      "Final error: 0.09999994133764523\n"
     ]
    }
   ],
   "source": [
    "x_opt, history = gradient_descent(alpha=0.05, epsilon=0.1)"
   ]
  },
  {
   "cell_type": "code",
   "execution_count": 12,
   "metadata": {},
   "outputs": [
    {
     "name": "stdout",
     "output_type": "stream",
     "text": [
      "Terminated after 44029 iterations\n",
      "Final error: 0.09999837211083883\n"
     ]
    }
   ],
   "source": [
    "x_opt, history = gradient_descent(alpha=0.5, epsilon=0.1)"
   ]
  },
  {
   "cell_type": "code",
   "execution_count": 13,
   "metadata": {},
   "outputs": [
    {
     "name": "stdout",
     "output_type": "stream",
     "text": [
      "Terminated after 22015 iterations\n",
      "Final error: 0.09999161028281828\n"
     ]
    }
   ],
   "source": [
    "x_opt, history = gradient_descent(alpha=1, epsilon=0.1)"
   ]
  },
  {
   "cell_type": "code",
   "execution_count": 14,
   "metadata": {},
   "outputs": [
    {
     "name": "stdout",
     "output_type": "stream",
     "text": [
      "Terminated after 18345 iterations\n",
      "Final error: 0.09999974505451262\n"
     ]
    }
   ],
   "source": [
    "x_opt, history = gradient_descent(alpha=1.2, epsilon=0.1)"
   ]
  },
  {
   "cell_type": "code",
   "execution_count": 15,
   "metadata": {},
   "outputs": [
    {
     "name": "stdout",
     "output_type": "stream",
     "text": [
      "Terminated after 14676 iterations\n",
      "Final error: 0.09999839774604151\n"
     ]
    }
   ],
   "source": [
    "x_opt, history = gradient_descent(alpha=1.5, epsilon=0.1)"
   ]
  },
  {
   "cell_type": "code",
   "execution_count": 16,
   "metadata": {},
   "outputs": [
    {
     "name": "stdout",
     "output_type": "stream",
     "text": [
      "Terminated after 11007 iterations\n",
      "Final error: 0.0999961522181711\n"
     ]
    }
   ],
   "source": [
    "x_opt, history = gradient_descent(alpha=2, epsilon=0.1)"
   ]
  },
  {
   "cell_type": "code",
   "execution_count": 17,
   "metadata": {},
   "outputs": [
    {
     "name": "stdout",
     "output_type": "stream",
     "text": [
      "Terminated after 656 iterations\n",
      "Final error: nan\n"
     ]
    },
    {
     "name": "stderr",
     "output_type": "stream",
     "text": [
      "/home/etudiants/chau5/.local/lib/python3.10/site-packages/numpy/core/_methods.py:118: RuntimeWarning: overflow encountered in reduce\n",
      "  ret = umr_sum(arr, axis, dtype, out, keepdims, where=where)\n",
      "/tmp/ipykernel_58404/1799147344.py:2: RuntimeWarning: overflow encountered in square\n",
      "  return np.average((A@x - b)**2)\n",
      "/tmp/ipykernel_58404/1799147344.py:5: RuntimeWarning: overflow encountered in matmul\n",
      "  return A.T@(A@x - b)/n\n",
      "/tmp/ipykernel_58404/1799147344.py:2: RuntimeWarning: invalid value encountered in matmul\n",
      "  return np.average((A@x - b)**2)\n"
     ]
    }
   ],
   "source": [
    "x_opt, history = gradient_descent(alpha=5, epsilon=0.1)"
   ]
  },
  {
   "cell_type": "markdown",
   "metadata": {},
   "source": [
    "Conclusion: We can let $\\alpha$ up to 2 to reach faster convergence without losing precision. Below are the plots when $\\alpha=2$."
   ]
  },
  {
   "cell_type": "markdown",
   "metadata": {},
   "source": [
    "#### 4. Plot the progress"
   ]
  },
  {
   "cell_type": "code",
   "execution_count": 21,
   "metadata": {},
   "outputs": [
    {
     "name": "stdout",
     "output_type": "stream",
     "text": [
      "Terminated after 11007 iterations\n",
      "Final error: 0.0999961522181711\n"
     ]
    },
    {
     "data": {
      "image/png": "[encoded data removed]",
      "text/plain": [
       "<Figure size 432x288 with 1 Axes>"
      ]
     },
     "metadata": {
      "needs_background": "light"
     },
     "output_type": "display_data"
    }
   ],
   "source": [
    "# Plot in the case \n",
    "x_opt, history = gradient_descent(alpha=2, epsilon=0.1)\n",
    "plt.plot([f(x) for x in history])\n",
    "plt.xlabel('Iteration')\n",
    "plt.ylabel('$f(x)$')\n",
    "\n",
    "plt.show()"
   ]
  },
  {
   "cell_type": "code",
   "execution_count": 19,
   "metadata": {},
   "outputs": [],
   "source": [
    "def norm(vec):\n",
    "  return np.sqrt(np.sum(vec**2))"
   ]
  },
  {
   "cell_type": "code",
   "execution_count": 22,
   "metadata": {},
   "outputs": [
    {
     "data": {
      "image/png": "[encoded data removed]",
      "text/plain": [
       "<Figure size 432x288 with 1 Axes>"
      ]
     },
     "metadata": {
      "needs_background": "light"
     },
     "output_type": "display_data"
    }
   ],
   "source": [
    "plt.plot([norm(grad_f(x)) for x in history])\n",
    "plt.xlabel('Iteration')\n",
    "plt.ylabel('$f(x)$')\n",
    "\n",
    "plt.show()"
   ]
  },
  {
   "cell_type": "markdown",
   "metadata": {},
   "source": [
    "#### 5. Measure time with $\\epsilon = 0.5$"
   ]
  },
  {
   "cell_type": "code",
   "execution_count": 23,
   "metadata": {},
   "outputs": [
    {
     "name": "stdout",
     "output_type": "stream",
     "text": [
      "Terminated after 2099 iterations\n",
      "Final error: 0.499971583852086\n",
      "Execution time per iteration: 2.255723589942569e-05s\n"
     ]
    }
   ],
   "source": [
    "start = time()\n",
    "x_opt, history = gradient_descent(alpha=2, epsilon=0.5)\n",
    "end = time()\n",
    "print(f\"Execution time per iteration: {(end-start)/len(history)}s\" )"
   ]
  },
  {
   "cell_type": "markdown",
   "metadata": {},
   "source": [
    "# Exercise 2"
   ]
  },
  {
   "cell_type": "markdown",
   "metadata": {},
   "source": [
    "#### 1. Solve using SDG. Try different values of $\\alpha$."
   ]
  },
  {
   "cell_type": "code",
   "execution_count": 24,
   "metadata": {},
   "outputs": [],
   "source": [
    "def sgd(x0 = np.zeros((n,1)), alpha=0.01, epsilon = 0.1):\n",
    "\n",
    "  iter = 0\n",
    "  x_opt = x0\n",
    "  history = [x0]\n",
    "\n",
    "  while f(x_opt) >= epsilon:\n",
    "    k = np.random.choice(range(0, n))\n",
    "    g_k = ((A[k]@x_opt - b[k])[0] * A[k]).reshape(n, 1)\n",
    "\n",
    "    x_opt = x_opt - alpha*g_k\n",
    "\n",
    "    history.append(x_opt)\n",
    "    iter += 1\n",
    "  \n",
    "  print(f\"Terminated after {iter} iterations\")\n",
    "  print(f\"Final error: {f(x_opt)}\")\n",
    "  return x_opt, history"
   ]
  },
  {
   "cell_type": "code",
   "execution_count": 25,
   "metadata": {},
   "outputs": [
    {
     "name": "stdout",
     "output_type": "stream",
     "text": [
      "Terminated after 2208922 iterations\n",
      "Final error: 0.09999540075031876\n"
     ]
    }
   ],
   "source": [
    "x_opt, history = sgd(alpha=0.01, epsilon=0.1)"
   ]
  },
  {
   "cell_type": "code",
   "execution_count": 41,
   "metadata": {},
   "outputs": [
    {
     "name": "stdout",
     "output_type": "stream",
     "text": [
      "Terminated after 224781 iterations\n",
      "Final error: 0.09978686789561522\n"
     ]
    }
   ],
   "source": [
    "x_opt, history = sgd(alpha=0.1, epsilon=0.1)"
   ]
  },
  {
   "cell_type": "code",
   "execution_count": 45,
   "metadata": {},
   "outputs": [
    {
     "name": "stdout",
     "output_type": "stream",
     "text": [
      "Terminated after 131230 iterations\n",
      "Final error: 0.0992612184584219\n"
     ]
    }
   ],
   "source": [
    "x_opt, history = sgd(alpha=0.2, epsilon=0.1)"
   ]
  },
  {
   "cell_type": "code",
   "execution_count": 44,
   "metadata": {},
   "outputs": [
    {
     "name": "stdout",
     "output_type": "stream",
     "text": [
      "Terminated after 8421 iterations\n",
      "Final error: nan\n"
     ]
    },
    {
     "name": "stderr",
     "output_type": "stream",
     "text": [
      "c:\\Users\\DELL\\anaconda3\\envs\\general\\Lib\\site-packages\\numpy\\_core\\_methods.py:136: RuntimeWarning: overflow encountered in reduce\n",
      "  ret = umr_sum(arr, axis, dtype, out, keepdims, where=where)\n",
      "C:\\Users\\DELL\\AppData\\Local\\Temp\\ipykernel_7156\\1799147344.py:2: RuntimeWarning: overflow encountered in square\n",
      "  return np.average((A@x - b)**2)\n",
      "C:\\Users\\DELL\\AppData\\Local\\Temp\\ipykernel_7156\\1594260407.py:9: RuntimeWarning: overflow encountered in multiply\n",
      "  g_k = ((A[k]@x_opt - b[k])[0] * A[k]).reshape(n, 1)\n",
      "C:\\Users\\DELL\\AppData\\Local\\Temp\\ipykernel_7156\\1799147344.py:2: RuntimeWarning: invalid value encountered in matmul\n",
      "  return np.average((A@x - b)**2)\n"
     ]
    }
   ],
   "source": [
    "x_opt, history = sgd(alpha=0.5, epsilon=0.1)"
   ]
  },
  {
   "cell_type": "markdown",
   "metadata": {},
   "source": [
    "Conclusion: We can let $\\alpha$ up to 0.2 to reach faster convergence while maintaining precision. Below is the plot in the case $\\alpha=0.2$."
   ]
  },
  {
   "cell_type": "markdown",
   "metadata": {},
   "source": [
    "#### 2. Draw a plot an compare with GD"
   ]
  },
  {
   "cell_type": "code",
   "execution_count": 26,
   "metadata": {},
   "outputs": [
    {
     "name": "stdout",
     "output_type": "stream",
     "text": [
      "Terminated after 134334 iterations\n",
      "Final error: 0.09636506762585366\n"
     ]
    },
    {
     "data": {
      "image/png": "[encoded data removed]",
      "text/plain": [
       "<Figure size 432x288 with 1 Axes>"
      ]
     },
     "metadata": {
      "needs_background": "light"
     },
     "output_type": "display_data"
    }
   ],
   "source": [
    "x_opt, history = sgd(alpha=0.2, epsilon=0.1)\n",
    "plt.plot([f(x) for x in history])\n",
    "plt.xlabel('Iteration')\n",
    "plt.ylabel('$f(x)$')\n",
    "\n",
    "plt.show()"
   ]
  },
  {
   "cell_type": "markdown",
   "metadata": {},
   "source": [
    "Now we draw a plot for the case $\\alpha=0.2$ in Gradient descent to compare."
   ]
  },
  {
   "cell_type": "code",
   "execution_count": 47,
   "metadata": {},
   "outputs": [
    {
     "name": "stdout",
     "output_type": "stream",
     "text": [
      "Terminated after 110073 iterations\n",
      "Final error: 0.09999881605898168\n"
     ]
    }
   ],
   "source": [
    "x_opt, history = gradient_descent(alpha=0.2, epsilon=0.1)"
   ]
  },
  {
   "cell_type": "code",
   "execution_count": 48,
   "metadata": {},
   "outputs": [
    {
     "data": {
      "image/png": "[encoded data removed]",
      "text/plain": [
       "<Figure size 640x480 with 1 Axes>"
      ]
     },
     "metadata": {},
     "output_type": "display_data"
    }
   ],
   "source": [
    "plt.plot([f(x) for x in history])\n",
    "plt.xlabel('Iteration')\n",
    "plt.ylabel('$f(x)$')\n",
    "\n",
    "plt.show()"
   ]
  },
  {
   "cell_type": "markdown",
   "metadata": {},
   "source": [
    "Conclusion: SGD does not take much more iterations than GD to converge. The progress of SGD seems to fluctuate more than that of GD."
   ]
  },
  {
   "cell_type": "markdown",
   "metadata": {},
   "source": [
    "#### 3. Measure time in the case $\\epsilon=0.5$ and compare with GD."
   ]
  },
  {
   "cell_type": "code",
   "execution_count": 30,
   "metadata": {},
   "outputs": [
    {
     "name": "stdout",
     "output_type": "stream",
     "text": [
      "Terminated after 46346 iterations\n",
      "Final error: 0.47329962045143753\n",
      "Execution time per iteration: 3.704212551778283e-05s\n"
     ]
    }
   ],
   "source": [
    "start = time()\n",
    "x_opt, history = sgd(alpha=0.2, epsilon=0.5)\n",
    "end = time()\n",
    "print(f\"Execution time per iteration: {(end-start)/len(history)}s\")"
   ]
  },
  {
   "cell_type": "code",
   "execution_count": 29,
   "metadata": {},
   "outputs": [
    {
     "name": "stdout",
     "output_type": "stream",
     "text": [
      "Terminated after 20988 iterations\n",
      "Final error: 0.4999973694645094\n",
      "Execution time: 1.721510727435423e-05s\n"
     ]
    }
   ],
   "source": [
    "start = time()\n",
    "x_opt, history = gradient_descent(alpha=0.2, epsilon=0.5)\n",
    "end = time()\n",
    "print(f\"Execution time: {(end-start)/len(history)}s\")"
   ]
  },
  {
   "cell_type": "markdown",
   "metadata": {},
   "source": [
    "Conclusion: Since the dimension is not very large, SGD even takes more time per iteration than GD."
   ]
  }
 ],
 "metadata": {
  "kernelspec": {
   "display_name": "Python 3",
   "language": "python",
   "name": "python3"
  },
  "language_info": {
   "codemirror_mode": {
    "name": "ipython",
    "version": 3
   },
   "file_extension": ".py",
   "mimetype": "text/x-python",
   "name": "python",
   "nbconvert_exporter": "python",
   "pygments_lexer": "ipython3",
   "version": "3.10.12"
  }
 },
 "nbformat": 4,
 "nbformat_minor": 2
}
