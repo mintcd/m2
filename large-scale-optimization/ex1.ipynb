{
 "cells": [
  {
   "cell_type": "markdown",
   "id": "e9bef670",
   "metadata": {},
   "source": [
    "# Exercise 1 - Bayesian Classifier"
   ]
  },
  {
   "cell_type": "code",
   "execution_count": 1,
   "id": "b13daf45",
   "metadata": {},
   "outputs": [
    {
     "name": "stdout",
     "output_type": "stream",
     "text": [
      "estimated covariance matrix :\n",
      " [[0.99691233 0.00850897]\n",
      " [0.00850897 1.19209747]] \n",
      "\n",
      "estimated mean : \n",
      " 0.9027186053156859\n",
      "0.06637161150622212\n"
     ]
    }
   ],
   "source": [
    "import numpy as np\n",
    "\n",
    "# number of class\n",
    "N = 3\n",
    "\n",
    "# size of the sample: N*n\n",
    "# n is the number of point x_i generated for each class\n",
    "n = 100\n",
    "\n",
    "# dimension of the input space\n",
    "d = 2\n",
    "\n",
    "# we assume that if Y = 0, then X follow a normal distribution with mean (1,0) and variance I_2\n",
    "# Generate the sample\n",
    "x0 = np.random.randn(2,n)+np.array([[1],[0]])\n",
    "\n",
    "# verifying if the mean and the covariance matrix are OK\n",
    "print(\"estimated covariance matrix :\\n\",np.cov(x0),\"\\n\")\n",
    "print(\"estimated mean : \\n\",np.mean(x0[0,:]))\n",
    "print(np.mean(x0[1,:]))\n",
    "\n",
    "# we assume that if Y = 1, then X follow \n",
    "x1 = 0.8*np.random.randn(2,n)+np.array([[3],[2]])\n",
    "\n",
    "# we ...\n",
    "x2 = 1.5*np.random.randn(2,n)+np.array([[-1.5],[0.5]])"
   ]
  },
  {
   "cell_type": "code",
   "execution_count": 2,
   "id": "40792e95",
   "metadata": {},
   "outputs": [
    {
     "data": {
      "image/png": "[encoded data removed]",
      "text/plain": [
       "<Figure size 432x288 with 1 Axes>"
      ]
     },
     "metadata": {
      "needs_background": "light"
     },
     "output_type": "display_data"
    }
   ],
   "source": [
    "import matplotlib.pyplot as plt\n",
    "\n",
    "# Plot the dataset !\n",
    "# blue for class Y= 0, red for class Y = 1 and green for class Y = 2\n",
    "plt.plot(x0[0,:],x0[1,:],\"b.\",x1[0,:],x1[1,:],\"r.\",x2[0,:],x2[1,:],\"g.\")\n",
    "plt.show()"
   ]
  },
  {
   "cell_type": "code",
   "execution_count": 3,
   "id": "faa34cee",
   "metadata": {},
   "outputs": [
    {
     "data": {
      "text/latex": [
       "$\\displaystyle \\frac{\\sqrt{2} e^{- \\frac{x^{2}}{2}}}{2 \\sqrt{\\pi}}$"
      ],
      "text/plain": [
       "sqrt(2)*exp(-x**2/2)/(2*sqrt(pi))"
      ]
     },
     "execution_count": 3,
     "metadata": {},
     "output_type": "execute_result"
    }
   ],
   "source": [
    "# in order to compute the boundaries of the Bayesian classifier\n",
    "# we use some computer algebra system (here sympy) to determine\n",
    "# the equations of theses boundaries\n",
    "from sympy import *\n",
    "\n",
    "# define the symbolic variables\n",
    "x, y = symbols(\"x,y\",real=True)\n",
    "\n",
    "# define the gaussian distribution density\n",
    "m1 = 0\n",
    "s1 = 1\n",
    "f = 1/(s1*sqrt(2*pi))*exp(-((x-m1)**2)/(2*s1*s1))\n",
    "f"
   ]
  },
  {
   "cell_type": "code",
   "execution_count": 4,
   "id": "bb3d1707",
   "metadata": {},
   "outputs": [
    {
     "data": {
      "text/latex": [
       "$\\displaystyle \\frac{e^{- \\frac{y^{2}}{2}} e^{- \\frac{\\left(x - 1\\right)^{2}}{2}}}{2 \\pi}$"
      ],
      "text/plain": [
       "exp(-y**2/2)*exp(-(x - 1)**2/2)/(2*pi)"
      ]
     },
     "execution_count": 4,
     "metadata": {},
     "output_type": "execute_result"
    }
   ],
   "source": [
    "# Define the Law of X | Y = 0\n",
    "s1 = 1\n",
    "s2 = 1\n",
    "m1 = 1\n",
    "m2 = 0\n",
    "f0 = 1/(s1*sqrt(2*pi))*exp(-((x-m1)**2)/(2*s1*s1)) *1/(s2*sqrt(2*pi))*exp(-((y-m2)**2)/(2*s2*s2))\n",
    "f0"
   ]
  },
  {
   "cell_type": "code",
   "execution_count": 5,
   "id": "8098f224",
   "metadata": {},
   "outputs": [
    {
     "data": {
      "text/latex": [
       "$\\displaystyle \\frac{0.78125 e^{- 0.78125 \\left(x - 3\\right)^{2}} e^{- 0.78125 \\left(y - 2\\right)^{2}}}{\\pi}$"
      ],
      "text/plain": [
       "0.78125*exp(-0.78125*(x - 3)**2)*exp(-0.78125*(y - 2)**2)/pi"
      ]
     },
     "execution_count": 5,
     "metadata": {},
     "output_type": "execute_result"
    }
   ],
   "source": [
    "# Define the Law of X | Y = 1\n",
    "s1 = 0.8\n",
    "s2 = 0.8\n",
    "m1 = 3\n",
    "m2 = 2\n",
    "f1 = 1/(s1*sqrt(2*pi))*exp(-((x-m1)**2)/(2*s1*s1)) *1/(s2*sqrt(2*pi))*exp(-((y-m2)**2)/(2*s2*s2))\n",
    "f1"
   ]
  },
  {
   "cell_type": "code",
   "execution_count": 6,
   "id": "3667e2ae",
   "metadata": {},
   "outputs": [
    {
     "data": {
      "text/latex": [
       "$\\displaystyle \\frac{0.222222222222222 e^{- 0.5 \\left(0.666666666666667 x + 1\\right)^{2}} e^{- 0.222222222222222 \\left(y - 0.5\\right)^{2}}}{\\pi}$"
      ],
      "text/plain": [
       "0.222222222222222*exp(-0.5*(0.666666666666667*x + 1)**2)*exp(-0.222222222222222*(y - 0.5)**2)/pi"
      ]
     },
     "execution_count": 6,
     "metadata": {},
     "output_type": "execute_result"
    }
   ],
   "source": [
    "# Define the Law of X | Y = 2\n",
    "s1 = 1.5\n",
    "s2 = 1.5\n",
    "m1 = -1.5\n",
    "m2 = 0.5\n",
    "f2 = 1/(s1*sqrt(2*pi))*exp(-((x-m1)**2)/(2*s1*s1)) *1/(s2*sqrt(2*pi))*exp(-((y-m2)**2)/(2*s2*s2))\n",
    "f2"
   ]
  },
  {
   "cell_type": "code",
   "execution_count": 7,
   "id": "deef7897",
   "metadata": {},
   "outputs": [],
   "source": [
    "# Law of Y = 0 | X = x\n",
    "ly0 = f0 / (f0+f1 +f2)\n",
    "\n",
    "# Law of Y = 1 | X = x\n",
    "ly1 = f1 / (f0 + f1 + f2)\n",
    "\n",
    "# Law of Y = 2 | X = x\n",
    "ly2 = f2 / (f0 + f1 +f2)"
   ]
  },
  {
   "cell_type": "code",
   "execution_count": 8,
   "id": "c21a015c",
   "metadata": {},
   "outputs": [],
   "source": [
    "# Compute the boundaries of the Bayesian classier with Sympy\n",
    "sf1 = solve(f0-f1,y)\n",
    "sf2 = solve(f1-f2,y)\n",
    "sf3 = solve(f0-f2,y)"
   ]
  },
  {
   "cell_type": "code",
   "execution_count": 11,
   "id": "9165e231-2a43-4215-92d9-e705eac0eb68",
   "metadata": {},
   "outputs": [
    {
     "data": {
      "image/png": "[encoded data removed]",
      "text/plain": [
       "<Figure size 432x288 with 1 Axes>"
      ]
     },
     "metadata": {
      "needs_background": "light"
     },
     "output_type": "display_data"
    }
   ],
   "source": [
    "hx = np.arange(-4,4,0.1)\n",
    "xb11 = [re(sf1[0]).subs(x,k) for k in hx]\n",
    "xb12 = [re(sf1[1]).subs(x,k) for k in hx]\n",
    "xb21 = [re(sf2[0]).subs(x,k) for k in hx]\n",
    "xb22 = [re(sf2[1]).subs(x,k) for k in hx]\n",
    "xb31 = [re(sf3[0]).subs(x,k) for k in hx]\n",
    "xb32 = [re(sf3[1]).subs(x,k) for k in hx]\n",
    "\n",
    "plt.plot(x0[0,:],x0[1,:],\"b.\",x1[0,:],x1[1,:],\"r.\",x2[0,:],x2[1,:],\"g.\",hx,xb11,\"b\",hx,xb31,\"k\",hx,xb32,\"k\")\n",
    "plt.show()"
   ]
  },
  {
   "cell_type": "code",
   "execution_count": 12,
   "id": "27cae1c4",
   "metadata": {},
   "outputs": [],
   "source": [
    "# create the dataset \n",
    "\n",
    "# create the output vector\n",
    "y0 = np.zeros(n)\n",
    "y1 = np.ones(n)\n",
    "y2 = 2*np.ones(n)\n",
    "ys = np.concatenate((y0,y1,y2))\n",
    "Xs = np.concatenate((x0,x1,x2),axis=1)\n",
    "Xs = Xs.T\n"
   ]
  },
  {
   "cell_type": "code",
   "execution_count": 13,
   "id": "0b7f5979",
   "metadata": {},
   "outputs": [
    {
     "name": "stderr",
     "output_type": "stream",
     "text": [
      "/usr/lib/python3/dist-packages/scipy/__init__.py:146: UserWarning: A NumPy version >=1.17.3 and <1.25.0 is required for this version of SciPy (detected version 1.26.4\n",
      "  warnings.warn(f\"A NumPy version >={np_minversion} and <{np_maxversion}\"\n"
     ]
    }
   ],
   "source": [
    "from sklearn.model_selection import train_test_split\n",
    "\n",
    "# define a seed for the random number generator\n",
    "SEED = 23\n",
    "\n",
    "# Split the data to create the train set and the test set\n",
    "X_train, X_test, y_train, y_test = train_test_split(Xs, ys, test_size=0.2, random_state=SEED)\n",
    "#"
   ]
  },
  {
   "cell_type": "code",
   "execution_count": 14,
   "id": "4567d458",
   "metadata": {},
   "outputs": [
    {
     "name": "stdout",
     "output_type": "stream",
     "text": [
      "Score on training set : 0.8083333333333333\n"
     ]
    }
   ],
   "source": [
    "from sklearn.linear_model import LogisticRegression\n",
    "\n",
    "# train a Logistic Regressor on this dataset\n",
    "logreg_clf  = LogisticRegression()\n",
    "\n",
    "model = logreg_clf.fit(X_train,y_train)\n",
    "\n",
    "print(\"Score on training set :\",model.score(X_train,y_train))"
   ]
  },
  {
   "cell_type": "code",
   "execution_count": 15,
   "id": "73bda36a",
   "metadata": {},
   "outputs": [
    {
     "name": "stdout",
     "output_type": "stream",
     "text": [
      "              precision    recall  f1-score   support\n",
      "\n",
      "         0.0       0.69      0.69      0.69        16\n",
      "         1.0       0.96      0.96      0.96        24\n",
      "         2.0       0.80      0.80      0.80        20\n",
      "\n",
      "    accuracy                           0.83        60\n",
      "   macro avg       0.82      0.82      0.82        60\n",
      "weighted avg       0.83      0.83      0.83        60\n",
      "\n"
     ]
    }
   ],
   "source": [
    "# Score on the test set\n",
    "from sklearn.metrics import classification_report\n",
    "\n",
    "y_predict = model.predict(X_test)\n",
    "print(classification_report(y_test, y_predict))"
   ]
  },
  {
   "cell_type": "code",
   "execution_count": 16,
   "id": "bbca01ca",
   "metadata": {},
   "outputs": [
    {
     "data": {
      "text/plain": [
       "0"
      ]
     },
     "execution_count": 16,
     "metadata": {},
     "output_type": "execute_result"
    }
   ],
   "source": [
    "# Compute the score of the bayesian classifier on the test set\n",
    "\n",
    "# define a function that return the classification according to the Bayesian classifier\n",
    "def BayesianClassif(X):\n",
    "    xi = X[0]\n",
    "    yi = X[1]\n",
    "    p0 = ly0.subs([(x,xi),(y,yi)]).n()\n",
    "    p1 = ly1.subs([(x,xi),(y,yi)]).n()\n",
    "    p2 = ly2.subs([(x,xi),(y,yi)]).n()\n",
    "    L = [p0,p1,p2]\n",
    "    #print(L)\n",
    "    return np.argmax(L)\n",
    "\n",
    "BayesianClassif(X_train[5,:])"
   ]
  },
  {
   "cell_type": "code",
   "execution_count": 17,
   "id": "5a79b998",
   "metadata": {},
   "outputs": [
    {
     "name": "stdout",
     "output_type": "stream",
     "text": [
      "              precision    recall  f1-score   support\n",
      "\n",
      "         0.0       0.80      0.75      0.77        16\n",
      "         1.0       0.96      0.96      0.96        24\n",
      "         2.0       0.86      0.90      0.88        20\n",
      "\n",
      "    accuracy                           0.88        60\n",
      "   macro avg       0.87      0.87      0.87        60\n",
      "weighted avg       0.88      0.88      0.88        60\n",
      "\n"
     ]
    }
   ],
   "source": [
    "# we are now able to evaluate the performance of the Bayesian classifier on the test set\n",
    "y_predicBC=[]\n",
    "for k in range(60):\n",
    "    c = BayesianClassif(X_test[k,:])\n",
    "    y_predicBC.append(c)\n",
    "\n",
    "print(classification_report(y_test, y_predicBC))\n"
   ]
  },
  {
   "cell_type": "code",
   "execution_count": 18,
   "id": "adb25f31",
   "metadata": {},
   "outputs": [
    {
     "data": {
      "text/plain": [
       "array([[-0.12347313, -0.65879748],\n",
       "       [ 1.63789731,  0.90732773],\n",
       "       [-1.51442417, -0.24853026]])"
      ]
     },
     "execution_count": 18,
     "metadata": {},
     "output_type": "execute_result"
    }
   ],
   "source": [
    "model.coef_"
   ]
  }
 ],
 "metadata": {
  "kernelspec": {
   "display_name": "Python 3",
   "language": "python",
   "name": "python3"
  },
  "language_info": {
   "codemirror_mode": {
    "name": "ipython",
    "version": 3
   },
   "file_extension": ".py",
   "mimetype": "text/x-python",
   "name": "python",
   "nbconvert_exporter": "python",
   "pygments_lexer": "ipython3",
   "version": "3.10.12"
  }
 },
 "nbformat": 4,
 "nbformat_minor": 5
}
