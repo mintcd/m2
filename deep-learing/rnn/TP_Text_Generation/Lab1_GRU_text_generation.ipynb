{
 "cells": [
  {
   "cell_type": "markdown",
   "metadata": {
    "id": "6mZ6hb_uY34Z"
   },
   "source": [
    "<img src=\"./image/labai.png\" width=\"200px\">"
   ]
  },
  {
   "cell_type": "markdown",
   "metadata": {
    "id": "otztqvtkY34b"
   },
   "source": [
    "# Text Generation with GRU\n",
    "\n",
    "In this exercise your goal is to build text generation model with GRU model by complete all piece of code below, you can add or change code as we can\n",
    "\n",
    "\n",
    "**Objective**:  \n",
    "In this exercise, your goal is to build a text generation model using a Gated Recurrent Unit (GRU). You will complete all the provided code segments and are encouraged to add or modify code to improve the model. The key steps involve:\n",
    "\n",
    "1. Preprocessing the text data.\n",
    "2. Implementing the GRU-based neural network.\n",
    "3. Training the model on the provided dataset.\n",
    "4. Generating new text based on a seed sequence.\n",
    "\n",
    "**Instructions**:\n",
    "- Follow the code structure provided and complete the missing sections.\n",
    "- Experiment with different hyperparameters to improve performance.\n",
    "- You are free to adjust the code as needed to enhance results\n"
   ]
  },
  {
   "cell_type": "code",
   "execution_count": null,
   "metadata": {
    "colab": {
     "base_uri": "https://localhost:8080/"
    },
    "id": "kdNrLT0GY34c",
    "outputId": "b29c40b6-3d1b-482d-cdc6-83a0c6224df5"
   },
   "outputs": [
    {
     "name": "stdout",
     "output_type": "stream",
     "text": [
      "cuda\n"
     ]
    }
   ],
   "source": [
    "import re\n",
    "import torch\n",
    "import torchtext\n",
    "import torch.nn as nn\n",
    "from pathlib import Path\n",
    "from typing import List,Dict\n",
    "\n",
    "# import lightning as L\n",
    "import torch.nn.functional as F\n",
    "import torch.optim as optim\n",
    "import unicodedata\n",
    "from torch.utils.data import Dataset\n",
    "from torch.utils.data import DataLoader\n",
    "from torchtext.vocab  import build_vocab_from_iterator\n",
    "# from lightning.pytorch.loggers import TensorBoardLogger\n",
    "\n",
    "# Attempt GPU; if not, stay on CPU\n",
    "DEVICE = torch.device('cuda' if torch.cuda.is_available() else 'cpu')\n",
    "print(DEVICE)"
   ]
  },
  {
   "cell_type": "markdown",
   "metadata": {},
   "source": [
    "## Create a Data Loader"
   ]
  },
  {
   "cell_type": "markdown",
   "metadata": {},
   "source": [
    "#### Load Raw Data"
   ]
  },
  {
   "cell_type": "code",
   "execution_count": 2,
   "metadata": {
    "id": "rqAjwZ1TY34d"
   },
   "outputs": [
    {
     "name": "stdout",
     "output_type": "stream",
     "text": [
      "Number of characters in text file: 1,115,394\n"
     ]
    }
   ],
   "source": [
    "text = Path('./data/tiny-shakespeare.txt').read_text()\n",
    "print(f'Number of characters in text file: {len(text):,}')"
   ]
  },
  {
   "cell_type": "code",
   "execution_count": 3,
   "metadata": {
    "colab": {
     "base_uri": "https://localhost:8080/"
    },
    "id": "IwwOe-tJ-xcE",
    "outputId": "15c97619-b3b8-486e-c482-1917d91b70c1"
   },
   "outputs": [
    {
     "name": "stdout",
     "output_type": "stream",
     "text": [
      "First Citizen:\n",
      "Before we proceed any further, hear me speak.\n",
      "\n",
      "All:\n",
      "Speak, speak.\n",
      "\n",
      "First Citizen:\n",
      "You\n"
     ]
    }
   ],
   "source": [
    "print(text[0:100])"
   ]
  },
  {
   "cell_type": "markdown",
   "metadata": {
    "id": "OeHkhOxoY34f"
   },
   "source": [
    "#### Tokenization"
   ]
  },
  {
   "cell_type": "code",
   "execution_count": 4,
   "metadata": {
    "id": "4uwdls7xY34f"
   },
   "outputs": [],
   "source": [
    "class  WordTokenizer(nn.Module):\n",
    "    def __init__(self, vocab: torchtext.vocab.Vocab|Dict[str,int])-> None:\n",
    "        super().__init__()\n",
    "\n",
    "        if isinstance(vocab, torchtext.vocab.Vocab):\n",
    "            self.token2id=vocab.get_stoi()\n",
    "            self.id2token={id:ch for ch,id in vocab.get_stoi().items()}\n",
    "            self.vocab_size=len(self.token2id)\n",
    "\n",
    "        elif isinstance(vocab, dict):\n",
    "            self.token2id=vocab\n",
    "            self.id2token={id:ch for ch,id in vocab.items()}\n",
    "            self.vocab_size=len(self.token2id)\n",
    "\n",
    "        else:\n",
    "            raise TypeError(\"Please loads a vocabulary file into a dictionary \\\n",
    "                            Dict[str,int] or torchtext.vocab.Vocab\")\n",
    "\n",
    "    def encode(self, text:List[str]|str):\n",
    "        if isinstance(text, str):\n",
    "            text_list=self.tokenize(text)\n",
    "\n",
    "        token_id=[]\n",
    "        for token in text_list:\n",
    "            token_id.append(self.token2id[token])\n",
    "        return  torch.tensor(token_id,  dtype=torch.long)\n",
    "\n",
    "\n",
    "    def decode(self, idx:torch.tensor):\n",
    "        #idx: torch.Tensor containing integers\n",
    "        token=[]\n",
    "        for id in idx.tolist():\n",
    "            token.append(self.id2token[id])\n",
    "        return ' '.join(token)\n",
    "\n",
    "    @staticmethod\n",
    "    def tokenize(text: str) -> List[str]:\n",
    "\n",
    "        # Normalize incoming text; can be multiple actions\n",
    "        text= text.lower() ## Your code Here ##\n",
    "\n",
    "        # split text into tokens\n",
    "        tokens= re.split(r'\\W+', text) ## Your code Here ##\n",
    "\n",
    "        return tokens\n",
    "\n",
    "    @staticmethod\n",
    "    def _tokenizer_corpus(corpus:List[str]):\n",
    "        for text in corpus:\n",
    "            yield WordTokenizer.tokenize(text)\n",
    "\n",
    "    @staticmethod\n",
    "    def train_from_text(text: str) -> List[str]:\n",
    "        \"\"\"build vocab from one text corpus\"\"\"\n",
    "        vocab=build_vocab_from_iterator(WordTokenizer._tokenizer_corpus(WordTokenizer.tokenize(text)),\n",
    "                                        specials=[\"<unk>\"]\n",
    "                                       )\n",
    "        vocab.set_default_index(vocab[\"<unk>\"])\n",
    "\n",
    "        return WordTokenizer(vocab)\n"
   ]
  },
  {
   "cell_type": "code",
   "execution_count": 5,
   "metadata": {
    "id": "YGIb4sShY34f"
   },
   "outputs": [],
   "source": [
    "# create tokenizer from text\n",
    "tokenizer = WordTokenizer.train_from_text(text)"
   ]
  },
  {
   "cell_type": "code",
   "execution_count": 6,
   "metadata": {
    "colab": {
     "base_uri": "https://localhost:8080/"
    },
    "id": "lTjLFATYY34f",
    "outputId": "1a1d6613-10d8-4654-88a2-f736e6099607"
   },
   "outputs": [
    {
     "name": "stdout",
     "output_type": "stream",
     "text": [
      "['first', 'citizen', 'before', 'we', 'proceed', 'any', 'further', 'hear', 'me', 'speak', 'all', 'speak', 'speak', 'first', 'citizen', 'you', 'are', 'all', 'resolved', 'rather', 'to', 'die', 'than', 'to', 'famish', 'all', 'resolved', 'resolved', 'first', 'citizen', 'first', 'you', 'know', 'caius', 'marcius', 'is', 'chief', 'enemy', 'to', 'the', 'people', 'all', 'we', 'know', 't', 'we', 'know', 't', 'first', 'citizen', 'let', 'us']\n"
     ]
    }
   ],
   "source": [
    "# show example of word-based tokens\n",
    "print(tokenizer.tokenize(text[0:300]))"
   ]
  },
  {
   "cell_type": "code",
   "execution_count": 7,
   "metadata": {
    "colab": {
     "base_uri": "https://localhost:8080/"
    },
    "id": "Qwt6OCMsY34f",
    "outputId": "f5a75310-d3b4-4cb7-ec69-af1715e4bd74"
   },
   "outputs": [
    {
     "data": {
      "text/plain": [
       "tensor([ 304,    4,    1,  553, 3000,  659, 6539])"
      ]
     },
     "execution_count": 7,
     "metadata": {},
     "output_type": "execute_result"
    }
   ],
   "source": [
    "# tokenization\n",
    "encode_text=tokenizer.encode(\"Welcome to the deep learning course.\")\n",
    "encode_text"
   ]
  },
  {
   "cell_type": "code",
   "execution_count": 8,
   "metadata": {
    "colab": {
     "base_uri": "https://localhost:8080/",
     "height": 35
    },
    "id": "Min8ga3iY34g",
    "outputId": "e908e79d-55a3-425b-99dd-8c9709f280ae"
   },
   "outputs": [
    {
     "data": {
      "text/plain": [
       "'welcome to the deep learning course '"
      ]
     },
     "execution_count": 8,
     "metadata": {},
     "output_type": "execute_result"
    }
   ],
   "source": [
    "decode_text=tokenizer.decode(encode_text)\n",
    "decode_text"
   ]
  },
  {
   "cell_type": "markdown",
   "metadata": {
    "id": "tklWrh1JY34g"
   },
   "source": [
    "#### Prepare Dataset"
   ]
  },
  {
   "cell_type": "code",
   "execution_count": 9,
   "metadata": {
    "id": "6c0xseC9Y34g"
   },
   "outputs": [],
   "source": [
    "class ShakespeareDataset(Dataset):\n",
    "    def __init__(self, encode_text, max_seq_length: int):\n",
    "        self.encode_text     = encode_text\n",
    "        self.max_seq_length  = max_seq_length\n",
    "\n",
    "    def __len__(self):\n",
    "        return len(self.encode_text)-self.max_seq_length\n",
    "\n",
    "    def __getitem__(self, idx):\n",
    "        assert idx < len(self.encode_text)-self.max_seq_length\n",
    "\n",
    "        x_train= self.encode_text[idx:idx+self.max_seq_length]\n",
    "\n",
    "        # Target is shifted by one character/token\n",
    "        y_target= self.encode_text[idx+1:idx+1+self.max_seq_length]\n",
    "\n",
    "        return x_train, y_target\n"
   ]
  },
  {
   "cell_type": "code",
   "execution_count": null,
   "metadata": {
    "id": "jTOkrUplY34g"
   },
   "outputs": [
    {
     "data": {
      "text/plain": [
       "2"
      ]
     },
     "execution_count": 10,
     "metadata": {},
     "output_type": "execute_result"
    }
   ],
   "source": [
    "dataset = ShakespeareDataset(encode_text=tokenizer.encode(text),max_seq_length=100)\n",
    "len(dataset[0])"
   ]
  },
  {
   "cell_type": "code",
   "execution_count": 11,
   "metadata": {
    "colab": {
     "base_uri": "https://localhost:8080/",
     "height": 122
    },
    "id": "u1laQ2pnY34g",
    "outputId": "fee87a1d-f424-4185-fb31-d7597b2e293f"
   },
   "outputs": [
    {
     "data": {
      "text/plain": [
       "'first citizen before we proceed any further hear me speak all speak speak first citizen you are all resolved rather to die than to famish all resolved resolved first citizen first you know caius marcius is chief enemy to the people all we know t we know t first citizen let us kill him and we ll have corn at our own price is t a verdict all no more talking on t let it be done away away second citizen one word good citizens first citizen we are accounted poor citizens the patricians good what authority surfeits on would'"
      ]
     },
     "execution_count": 11,
     "metadata": {},
     "output_type": "execute_result"
    }
   ],
   "source": [
    "tokenizer.decode(dataset[0][0])"
   ]
  },
  {
   "cell_type": "code",
   "execution_count": 12,
   "metadata": {
    "colab": {
     "base_uri": "https://localhost:8080/",
     "height": 122
    },
    "id": "mXi5HOKoY34g",
    "outputId": "7d939f13-eb03-44d9-90e7-459db296ce14"
   },
   "outputs": [
    {
     "data": {
      "text/plain": [
       "'citizen before we proceed any further hear me speak all speak speak first citizen you are all resolved rather to die than to famish all resolved resolved first citizen first you know caius marcius is chief enemy to the people all we know t we know t first citizen let us kill him and we ll have corn at our own price is t a verdict all no more talking on t let it be done away away second citizen one word good citizens first citizen we are accounted poor citizens the patricians good what authority surfeits on would relieve'"
      ]
     },
     "execution_count": 12,
     "metadata": {},
     "output_type": "execute_result"
    }
   ],
   "source": [
    "tokenizer.decode(dataset[1][0])"
   ]
  },
  {
   "cell_type": "code",
   "execution_count": 13,
   "metadata": {
    "id": "mI9yTtUlY34g"
   },
   "outputs": [],
   "source": [
    "# batch dataset\n",
    "train_dataloader = DataLoader(dataset, batch_size=256, shuffle=False)"
   ]
  },
  {
   "cell_type": "code",
   "execution_count": null,
   "metadata": {},
   "outputs": [],
   "source": [
    "for X_batch, y_batch in train_dataloader:\n",
    "  print(X_batch, y_batch)\n",
    "  break"
   ]
  },
  {
   "cell_type": "code",
   "execution_count": null,
   "metadata": {},
   "outputs": [],
   "source": [
    "X_batch.shape"
   ]
  },
  {
   "cell_type": "code",
   "execution_count": null,
   "metadata": {},
   "outputs": [],
   "source": [
    "y_batch.shape"
   ]
  },
  {
   "cell_type": "markdown",
   "metadata": {
    "id": "Eld3OBKoY34g"
   },
   "source": [
    "## Build GRU model\n"
   ]
  },
  {
   "cell_type": "code",
   "execution_count": 47,
   "metadata": {
    "id": "eC6I6cNLY34h"
   },
   "outputs": [],
   "source": [
    "class GRUTextGen(nn.Module):\n",
    "    def __init__(self,\n",
    "                 tokenizer: WordTokenizer,\n",
    "                 embedding_dim, \n",
    "                 hidden_dim, \n",
    "                 num_layers, \n",
    "                 dropout):\n",
    "        super(GRUTextGen, self).__init__()\n",
    "\n",
    "        self.tokenizer = tokenizer\n",
    "        self.vocab_size = tokenizer.vocab_size\n",
    "\n",
    "        self.embedding_dim = embedding_dim\n",
    "        self.hidden_dim = hidden_dim\n",
    "        self. num_layers= num_layers\n",
    "        self.dropout = dropout\n",
    "        \n",
    "        self.embedding = nn.Embedding(num_embeddings=self.vocab_size, embedding_dim=self.embedding_dim)\n",
    "\n",
    "        self.gru = nn.GRU(input_size=self.embedding_dim,\n",
    "                          hidden_size=self.hidden_dim,\n",
    "                          num_layers=self. num_layers,\n",
    "                          dropout=self.dropout,\n",
    "                          batch_first=True)\n",
    "\n",
    "        self.fc = nn.Linear(in_features=hidden_dim, out_features=self.vocab_size)\n",
    "\n",
    "    def forward(self, x: torch.tensor):\n",
    "        assert x.ndim==2  # x tensor must be 2D dimensions with shape (B,S), B=batch, S=sequence length\n",
    "        x = self.embedding(x)\n",
    "        output, _ = self.gru(x)\n",
    "        logits = self.fc(output)\n",
    "        return logits\n",
    "    \n",
    "    def fit(self, epochs = 5, \n",
    "                  from_epoch = 0,\n",
    "                  optimizer=optim.Adam,\n",
    "                  lr=0.001,\n",
    "                  loss_function = nn.CrossEntropyLoss()):\n",
    "        \n",
    "        optimizer = optim.Adam(self.parameters(), lr=lr)\n",
    "\n",
    "        for epoch in range(from_epoch, epochs+from_epoch):\n",
    "          # Set model into \"training mode\"\n",
    "          self.train()\n",
    "          total_loss = 0\n",
    "\n",
    "          count = 0\n",
    "          for X_batch, y_batch in train_dataloader:\n",
    "              X_batch, y_batch = X_batch.to(DEVICE), y_batch.to(DEVICE)\n",
    "              optimizer.zero_grad()\n",
    "              output = self(X_batch)\n",
    "              loss = loss_function(output.view(-1, output.size(-1)), y_batch.view(-1))\n",
    "              loss.backward()\n",
    "              optimizer.step()\n",
    "              total_loss += loss.item()\n",
    "\n",
    "              count += 1\n",
    "              if count % 100 == 0:\n",
    "                print(f'Batch {count}/{len(train_dataloader)}, Loss: {total_loss / len(train_dataloader)}')\n",
    "                model_name = f'rnn_epoch_{epoch+1}_batch_{count}.net'\n",
    "\n",
    "                with open(model_name, 'wb') as f:\n",
    "                    torch.save(self.state_dict(), f)\n",
    "\n",
    "          print(f'Epoch {epoch + 1}/{epochs+from_epoch}, Loss: {total_loss / len(train_dataloader)}')\n",
    "\n",
    "          path = f'rnn_epoch_{epoch+1}_completed.net'\n",
    "          with open(path, 'wb') as f:\n",
    "            torch.save(self.state_dict(), f)\n",
    "\n",
    "          print(\"Sample output:\")\n",
    "\n",
    "          gen_output = self.predict(\n",
    "              temperature=0.8,\n",
    "              max_tokens=30,\n",
    "              top_k=None,\n",
    "              do_sample=False\n",
    "          )\n",
    "          print(gen_output)\n",
    "\n",
    "          print('-'*72)\n",
    "    \n",
    "    @torch.no_grad()\n",
    "    def predict(self, \n",
    "                input_text: str = \"To be or not to be\", \n",
    "                max_tokens: int = 15, \n",
    "                temperature: float = 1, \n",
    "                top_k: int = None, \n",
    "                do_sample: bool = False):\n",
    "        \"\"\"Inference: Define Text Generation\"\"\"\n",
    "        \n",
    "        idx = self.tokenizer.encode(input_text).unsqueeze(dim=0).to(DEVICE)\n",
    "        max_sequence_length = 31\n",
    "\n",
    "        assert idx.ndim == 2, \"input token must be 2D with shape (B, S)\"\n",
    "\n",
    "        for _ in range(max_tokens):  # Maximum number of tokens to generate\n",
    "            # Limit the context length to max_sequence_length\n",
    "            idx_cond = idx if idx.size(1) <= max_sequence_length else idx[:, -max_sequence_length:]\n",
    "\n",
    "            # Forward pass through the model\n",
    "            logits = self(idx_cond)\n",
    "\n",
    "            # Get logits of the last token and scale by temperature\n",
    "            logits = logits[:, -1, :] / temperature\n",
    "\n",
    "            # Apply top-k filtering if specified\n",
    "            if top_k is not None:\n",
    "                values = torch.topk(logits, top_k).values\n",
    "                logits[logits < values[:, [-1]]] = -float('Inf')\n",
    "\n",
    "            # Convert logits to probabilities\n",
    "            probs = F.softmax(logits, dim=-1)\n",
    "\n",
    "            # Sample from probabilities or pick the most likely word\n",
    "            if do_sample:\n",
    "                idx_next = torch.multinomial(probs, num_samples=1)\n",
    "            else:\n",
    "                idx_next = torch.topk(probs, k=1, dim=-1).indices  # Greedy decoding\n",
    "\n",
    "            # Append the new token index to the running sequence\n",
    "            idx = torch.cat((idx, idx_next), dim=1)\n",
    "\n",
    "        return self.tokenizer.decode(idx.squeeze())"
   ]
  },
  {
   "cell_type": "markdown",
   "metadata": {},
   "source": [
    "## Train the Model"
   ]
  },
  {
   "cell_type": "code",
   "execution_count": 40,
   "metadata": {},
   "outputs": [
    {
     "data": {
      "text/plain": [
       "GRUTextGen(\n",
       "  (tokenizer): WordTokenizer()\n",
       "  (embedding): Embedding(11458, 128)\n",
       "  (gru): GRU(128, 256, num_layers=2, batch_first=True, dropout=0.2)\n",
       "  (fc): Linear(in_features=256, out_features=11458, bias=True)\n",
       ")"
      ]
     },
     "execution_count": 40,
     "metadata": {},
     "output_type": "execute_result"
    }
   ],
   "source": [
    "vocab_size = tokenizer.vocab_size\n",
    "embedding_dim = 128\n",
    "hidden_dim = 256\n",
    "num_layers = 2\n",
    "dropout = 0.2\n",
    "\n",
    "gru = GRUTextGen(tokenizer=tokenizer,\n",
    "                 embedding_dim=embedding_dim, \n",
    "                 hidden_dim=hidden_dim, \n",
    "                 num_layers=num_layers, \n",
    "                 dropout=dropout)\n",
    "gru.to(DEVICE)\n",
    "gru"
   ]
  },
  {
   "cell_type": "code",
   "execution_count": 36,
   "metadata": {},
   "outputs": [
    {
     "data": {
      "text/plain": [
       "'to be or not to be circumstances sail brotherly industriously borough borough shed shed bruising nothings nothings conjures saves prime proverb supporters cacodemon flattered statue gall statue gall statue sinks gall behoveful mildly avoiding absolver happened'"
      ]
     },
     "execution_count": 36,
     "metadata": {},
     "output_type": "execute_result"
    }
   ],
   "source": [
    "# Try a prediction before training\n",
    "gru.predict(temperature=0.8,\n",
    "            max_tokens=30,\n",
    "            top_k=None,\n",
    "            do_sample=False)"
   ]
  },
  {
   "cell_type": "code",
   "execution_count": 37,
   "metadata": {},
   "outputs": [
    {
     "name": "stdout",
     "output_type": "stream",
     "text": [
      "Batch 100/815, Loss: 0.8768252279129496\n",
      "Batch 200/815, Loss: 1.7321505084359572\n",
      "Batch 300/815, Loss: 2.582938046835683\n",
      "Batch 400/815, Loss: 3.4312840175043586\n",
      "Batch 500/815, Loss: 4.27374253945848\n",
      "Batch 600/815, Loss: 5.127304993962949\n",
      "Batch 700/815, Loss: 5.959392193051204\n",
      "Batch 800/815, Loss: 6.810870385901328\n",
      "Epoch 1/5, Loss: 6.942598291993873\n",
      "Sample output:\n",
      "to be or not to be the the the the the antonio the the the the the the the the the the the the the the the the the the the the antonio antonio antonio the\n",
      "------------------------------------------------------------------------\n",
      "Batch 100/815, Loss: 0.8244261805996573\n",
      "Batch 200/815, Loss: 1.6529137313000264\n",
      "Batch 300/815, Loss: 2.486510784055558\n",
      "Batch 400/815, Loss: 3.3187229174046426\n",
      "Batch 500/815, Loss: 4.1496200590777255\n",
      "Batch 600/815, Loss: 4.984988954462157\n",
      "Batch 700/815, Loss: 5.800949736753124\n",
      "Batch 800/815, Loss: 6.632969411019167\n",
      "Epoch 2/5, Loss: 6.762181098914585\n",
      "Sample output:\n",
      "to be or not to be the the the the the the the the the the the the the the the the the the the the the the the the the the the the the the\n",
      "------------------------------------------------------------------------\n",
      "Batch 100/815, Loss: 0.8291349247189387\n",
      "Batch 200/815, Loss: 1.6591416113215722\n",
      "Batch 300/815, Loss: 2.493678745901658\n",
      "Batch 400/815, Loss: 3.325144581121901\n",
      "Batch 500/815, Loss: 4.154360307213719\n",
      "Batch 600/815, Loss: 4.981081094332268\n",
      "Batch 700/815, Loss: 5.77566583258974\n",
      "Batch 800/815, Loss: 6.569753193416479\n",
      "Epoch 3/5, Loss: 6.69169123011864\n",
      "Sample output:\n",
      "to be or not to be a island of the island of the island of the island of the island of the island of the island of the island of the island of the island of\n",
      "------------------------------------------------------------------------\n",
      "Batch 100/815, Loss: 0.774233421957566\n",
      "Batch 200/815, Loss: 1.538160519512153\n",
      "Batch 300/815, Loss: 2.301908710690364\n",
      "Batch 400/815, Loss: 3.063812404468747\n",
      "Batch 500/815, Loss: 3.8171369505806205\n",
      "Batch 600/815, Loss: 4.5704023250041566\n",
      "Batch 700/815, Loss: 5.290555145989167\n",
      "Batch 800/815, Loss: 6.010688671158866\n",
      "Epoch 4/5, Loss: 6.121954116353228\n",
      "Sample output:\n",
      "to be or not to be a man of the island of the sea of the sea of the island of the sea of the sea of the sea of the sea of naples gonzalo and\n",
      "------------------------------------------------------------------------\n",
      "Batch 100/815, Loss: 0.7088666266458897\n",
      "Batch 200/815, Loss: 1.4039179380686004\n",
      "Batch 300/815, Loss: 2.1010589886296747\n",
      "Batch 400/815, Loss: 2.80125749038041\n",
      "Batch 500/815, Loss: 3.4899393005605126\n",
      "Batch 600/815, Loss: 4.188756395702713\n",
      "Batch 700/815, Loss: 4.861687086257467\n",
      "Batch 800/815, Loss: 5.536351189876626\n",
      "Epoch 5/5, Loss: 5.639990893755954\n",
      "Sample output:\n",
      "to be or not to be a man of naples and all the sea of the sea of naples and the king s ship the wreck and the earth of naples sebastian i have heard d\n",
      "------------------------------------------------------------------------\n"
     ]
    }
   ],
   "source": [
    "gru.fit(epochs=5, \n",
    "        optimizer=optim.Adam, \n",
    "        lr=0.001, \n",
    "        loss_function=nn.CrossEntropyLoss())"
   ]
  },
  {
   "cell_type": "markdown",
   "metadata": {},
   "source": [
    "The loss is still to high and the prediction does not make much sense. Let's reload the model and train for 5 more epochs."
   ]
  },
  {
   "cell_type": "code",
   "execution_count": 45,
   "metadata": {},
   "outputs": [
    {
     "data": {
      "text/plain": [
       "<All keys matched successfully>"
      ]
     },
     "execution_count": 45,
     "metadata": {},
     "output_type": "execute_result"
    }
   ],
   "source": [
    "gru = GRUTextGen(tokenizer=tokenizer,\n",
    "                 embedding_dim=embedding_dim, \n",
    "                 hidden_dim=hidden_dim, \n",
    "                 num_layers=num_layers, \n",
    "                 dropout=dropout)\n",
    "gru.to(DEVICE)\n",
    "with open('rnn_epoch_5_completed.net', 'rb') as f:\n",
    "    checkpoint = torch.load(f)\n",
    "gru.load_state_dict(checkpoint)"
   ]
  },
  {
   "cell_type": "code",
   "execution_count": null,
   "metadata": {},
   "outputs": [],
   "source": [
    "gru.fit(epochs=5, from_epoch=5)"
   ]
  },
  {
   "cell_type": "markdown",
   "metadata": {},
   "source": [
    "More 10 epochs"
   ]
  },
  {
   "cell_type": "code",
   "execution_count": 48,
   "metadata": {},
   "outputs": [
    {
     "name": "stdout",
     "output_type": "stream",
     "text": [
      "Batch 100/815, Loss: 0.542288696546496\n",
      "Batch 200/815, Loss: 1.097818767805041\n",
      "Batch 300/815, Loss: 1.6562972601206025\n",
      "Batch 400/815, Loss: 2.234626911607988\n",
      "Batch 500/815, Loss: 2.7985698185084056\n",
      "Batch 600/815, Loss: 3.3807567415061905\n",
      "Batch 700/815, Loss: 3.9525335727293798\n",
      "Batch 800/815, Loss: 4.515815020485158\n",
      "Epoch 11/20, Loss: 4.601973138996429\n",
      "Sample output:\n",
      "to be or not to be obedient prospero thou hast miranda thee to thy island prospero thou shalt be done to t thou shalt be miranda to be t prospero thou shalt be miranda and thou\n",
      "------------------------------------------------------------------------\n",
      "Batch 100/815, Loss: 0.5199754252755568\n",
      "Batch 200/815, Loss: 1.0334029964142781\n",
      "Batch 300/815, Loss: 1.5471124453047302\n",
      "Batch 400/815, Loss: 2.0778643593466355\n",
      "Batch 500/815, Loss: 2.5972030481677844\n",
      "Batch 600/815, Loss: 3.1262523224017373\n",
      "Batch 700/815, Loss: 3.648750660609614\n",
      "Batch 800/815, Loss: 4.161514106411144\n",
      "Epoch 12/20, Loss: 4.239510480026526\n",
      "Sample output:\n",
      "to be or not to be obedient prospero thou hast a slave ariel away thou didst painfully the issue had been spoken to the end of thy life thou wast thy brother s son and brought\n",
      "------------------------------------------------------------------------\n",
      "Batch 100/815, Loss: 0.49404480120887057\n",
      "Batch 200/815, Loss: 0.9767655723665389\n",
      "Batch 300/815, Loss: 1.4568462131944901\n",
      "Batch 400/815, Loss: 1.953985966934017\n",
      "Batch 500/815, Loss: 2.441908593558095\n",
      "Batch 600/815, Loss: 2.9347898527157086\n",
      "Batch 700/815, Loss: 3.424129293301354\n",
      "Batch 800/815, Loss: 3.9028546005670277\n",
      "Epoch 13/20, Loss: 3.9750813416908124\n",
      "Sample output:\n",
      "to be or not to be obedient prospero thou hast a slave ariel prospero thou art too rich miranda thou hast a slave ariel to thee ariel prospero thy father s death and thy son thou\n",
      "------------------------------------------------------------------------\n",
      "Batch 100/815, Loss: 0.47051303372061326\n",
      "Batch 200/815, Loss: 0.9280919566476272\n",
      "Batch 300/815, Loss: 1.3806791539572498\n",
      "Batch 400/815, Loss: 1.851145526967897\n",
      "Batch 500/815, Loss: 2.313480729705717\n",
      "Batch 600/815, Loss: 2.778519593572324\n",
      "Batch 700/815, Loss: 3.241975472748645\n",
      "Batch 800/815, Loss: 3.6946819791033225\n",
      "Epoch 14/20, Loss: 3.7625380858321864\n",
      "Sample output:\n",
      "to be or not to be obedient prospero i prithee prospero prospero go to me prospero thou liest malignant slave prospero i have no more but prospero o sir what is the matter prospero prospero prospero\n",
      "------------------------------------------------------------------------\n",
      "Batch 100/815, Loss: 0.45052995155194053\n",
      "Batch 200/815, Loss: 0.8878061475929308\n",
      "Batch 300/815, Loss: 1.3182114721075888\n",
      "Batch 400/815, Loss: 1.7673726479700007\n",
      "Batch 500/815, Loss: 2.208894153314134\n",
      "Batch 600/815, Loss: 2.652231016919657\n",
      "Batch 700/815, Loss: 3.0954891418386823\n",
      "Batch 800/815, Loss: 3.528034874266642\n",
      "Epoch 15/20, Loss: 3.592530385116858\n",
      "Sample output:\n",
      "to be or not to be obedient prospero he shall be done prospero i ll not have thee but prospero my heart ariel prospero thou didst vent didst thou didst kill me prospero prospero thou hast\n",
      "------------------------------------------------------------------------\n",
      "Batch 100/815, Loss: 0.43290641644249667\n",
      "Batch 200/815, Loss: 0.8524456644350765\n",
      "Batch 300/815, Loss: 1.264422069736785\n",
      "Batch 400/815, Loss: 1.6965679560702271\n",
      "Batch 500/815, Loss: 2.1208540419128044\n",
      "Batch 600/815, Loss: 2.5460366576727185\n",
      "Batch 700/815, Loss: 2.9725710055579437\n",
      "Batch 800/815, Loss: 3.3882406884175866\n",
      "Epoch 16/20, Loss: 3.4500508873009244\n",
      "Sample output:\n",
      "to be or not to be obedient in the midst of the king s son is the event of the volsces ariel prospero the good hearts of the volsces but thou shalt be infused and i\n",
      "------------------------------------------------------------------------\n",
      "Batch 100/815, Loss: 0.41697115313056055\n",
      "Batch 200/815, Loss: 0.8213775541153422\n",
      "Batch 300/815, Loss: 1.216816798309607\n",
      "Batch 400/815, Loss: 1.6341184285520776\n",
      "Batch 500/815, Loss: 2.0430953379789014\n",
      "Batch 600/815, Loss: 2.452729300048454\n",
      "Batch 700/815, Loss: 2.865402038843354\n",
      "Batch 800/815, Loss: 3.266340492693193\n",
      "Epoch 17/20, Loss: 3.3256217447526617\n",
      "Sample output:\n",
      "to be or not to be obedient in the midst of the street but what is t what says your daughter is the fault and what i do begins to the people of the isle and\n",
      "------------------------------------------------------------------------\n",
      "Batch 100/815, Loss: 0.4027655282634899\n",
      "Batch 200/815, Loss: 0.7937573070175077\n",
      "Batch 300/815, Loss: 1.175164377469958\n",
      "Batch 400/815, Loss: 1.5793113018106097\n",
      "Batch 500/815, Loss: 1.974778894412737\n",
      "Batch 600/815, Loss: 2.370894158544716\n",
      "Batch 700/815, Loss: 2.7713888065946612\n",
      "Batch 800/815, Loss: 3.1592591815199587\n",
      "Epoch 18/20, Loss: 3.2163719857397255\n",
      "Sample output:\n",
      "to be or not to be obedient for he is the mad and he that loves him in a good marriage of naples sebastian he is a sailmaker of naples and he is to be constant\n",
      "------------------------------------------------------------------------\n",
      "Batch 100/815, Loss: 0.390038686588498\n",
      "Batch 200/815, Loss: 0.7688448309167031\n",
      "Batch 300/815, Loss: 1.1373707192075764\n",
      "Batch 400/815, Loss: 1.5303639815628893\n",
      "Batch 500/815, Loss: 1.9141983649482024\n",
      "Batch 600/815, Loss: 2.2983329547694855\n",
      "Batch 700/815, Loss: 2.6879312968692894\n",
      "Batch 800/815, Loss: 3.064168742244229\n",
      "Epoch 19/20, Loss: 3.119284920019606\n",
      "Sample output:\n",
      "to be or not to be so sebastian what s he that s not nor the right of the king nor he will make the king s ship he is to be obedient sebastian then is\n",
      "------------------------------------------------------------------------\n",
      "Batch 100/815, Loss: 0.37925525911015234\n",
      "Batch 200/815, Loss: 0.7475335820320925\n",
      "Batch 300/815, Loss: 1.104579957716304\n",
      "Batch 400/815, Loss: 1.486222719707372\n",
      "Batch 500/815, Loss: 1.859721803665161\n",
      "Batch 600/815, Loss: 2.2331452656377313\n",
      "Batch 700/815, Loss: 2.612140917339208\n",
      "Batch 800/815, Loss: 2.9776773835983743\n",
      "Epoch 20/20, Loss: 3.0309364096518676\n",
      "Sample output:\n",
      "to be or not to be obedient i am constant to have no more than shoes or rather thou canst know st t not thou didst thyself to chide the business in the time thou didst\n",
      "------------------------------------------------------------------------\n"
     ]
    }
   ],
   "source": [
    "gru = GRUTextGen(tokenizer=tokenizer,\n",
    "                 embedding_dim=embedding_dim, \n",
    "                 hidden_dim=hidden_dim, \n",
    "                 num_layers=num_layers, \n",
    "                 dropout=dropout)\n",
    "gru.to(DEVICE)\n",
    "with open('rnn_epoch_10_completed.net', 'rb') as f:\n",
    "    checkpoint = torch.load(f)\n",
    "gru.load_state_dict(checkpoint)\n",
    "gru.fit(epochs=10, from_epoch=10)"
   ]
  },
  {
   "cell_type": "markdown",
   "metadata": {},
   "source": [
    "Let us reconstruct the losses of the model for every epoch to see training progress"
   ]
  },
  {
   "cell_type": "code",
   "execution_count": 55,
   "metadata": {},
   "outputs": [
    {
     "name": "stdout",
     "output_type": "stream",
     "text": [
      "Loss of epoch 1: 6.950430837876958\n",
      "Loss of epoch 2: 6.947858932120669\n",
      "Loss of epoch 3: 6.690801437939603\n",
      "Loss of epoch 4: 6.100714593430969\n",
      "Loss of epoch 5: 5.840942907625912\n",
      "Loss of epoch 6: 5.750919371294829\n",
      "Loss of epoch 7: 5.512190454869183\n",
      "Loss of epoch 8: 5.277867445916486\n",
      "Loss of epoch 9: 5.044462486571329\n",
      "Loss of epoch 10: 4.858134903644491\n",
      "Loss of epoch 11: 4.950546730661685\n",
      "Loss of epoch 12: 4.739075697565371\n",
      "Loss of epoch 13: 4.55750772558107\n",
      "Loss of epoch 14: 4.455636697020267\n",
      "Loss of epoch 15: 4.3377204315794025\n",
      "Loss of epoch 16: 4.181216391025146\n",
      "Loss of epoch 17: 4.0463507109624475\n",
      "Loss of epoch 18: 3.9558619196429574\n",
      "Loss of epoch 19: 3.8999819382568077\n",
      "Loss of epoch 20: 3.872848076908135\n"
     ]
    }
   ],
   "source": [
    "loss_history = []\n",
    "criterion = nn.CrossEntropyLoss()\n",
    "\n",
    "gru = GRUTextGen(tokenizer=tokenizer,\n",
    "                   embedding_dim=embedding_dim, \n",
    "                   hidden_dim=hidden_dim, \n",
    "                   num_layers=num_layers, \n",
    "                   dropout=dropout)\n",
    "gru.to(DEVICE)\n",
    "\n",
    "for epoch in range(1, 21):\n",
    "  with open(f'rnn_epoch_{epoch}_completed.net', 'rb') as f:\n",
    "    checkpoint = torch.load(f)\n",
    "\n",
    "  gru.load_state_dict(checkpoint)\n",
    "  total_loss = 0\n",
    "\n",
    "  with torch.no_grad():  # No need to compute gradients during evaluation\n",
    "      for x_train, y_target in train_dataloader:\n",
    "          # Move tensors to the correct device (GPU or CPU)\n",
    "          x_train, y_target = x_train.to(DEVICE), y_target.to(DEVICE)\n",
    "          output = gru(x_train)  # Shape: [batch_size, seq_length, vocab_size]\n",
    "          loss = criterion(output.view(-1, output.shape[-1]), y_target.view(-1))\n",
    "\n",
    "          # Accumulate the loss\n",
    "          total_loss += loss.item()\n",
    "\n",
    "  # Calculate the average loss over all samples\n",
    "  average_loss = total_loss / len(train_dataloader)\n",
    "  print(f\"Loss of epoch {epoch}: {average_loss}\")\n",
    "  loss_history.append(average_loss)"
   ]
  },
  {
   "cell_type": "code",
   "execution_count": 57,
   "metadata": {},
   "outputs": [
    {
     "data": {
      "image/png": "[encoded data removed]",
      "text/plain": [
       "<Figure size 640x480 with 1 Axes>"
      ]
     },
     "metadata": {},
     "output_type": "display_data"
    }
   ],
   "source": [
    "import matplotlib.pyplot as plt\n",
    "\n",
    "plt.plot(loss_history)\n",
    "plt.xlabel(\"Epoch\")\n",
    "plt.ylabel(\"Cross Entropy\")\n",
    "plt.show()"
   ]
  },
  {
   "cell_type": "markdown",
   "metadata": {},
   "source": [
    "## Inference"
   ]
  },
  {
   "cell_type": "markdown",
   "metadata": {},
   "source": [
    "We will save the final model to `rnn_final.net`"
   ]
  },
  {
   "cell_type": "code",
   "execution_count": 59,
   "metadata": {},
   "outputs": [
    {
     "data": {
      "text/plain": [
       "<All keys matched successfully>"
      ]
     },
     "execution_count": 59,
     "metadata": {},
     "output_type": "execute_result"
    }
   ],
   "source": [
    "gru = GRUTextGen(tokenizer=tokenizer,\n",
    "                   embedding_dim=embedding_dim, \n",
    "                   hidden_dim=hidden_dim, \n",
    "                   num_layers=num_layers, \n",
    "                   dropout=dropout)\n",
    "gru.to(DEVICE)\n",
    "with open(f'rnn_final.net', 'rb') as f:\n",
    "  checkpoint = torch.load(f)\n",
    "\n",
    "gru.load_state_dict(checkpoint)\n"
   ]
  },
  {
   "cell_type": "code",
   "execution_count": 60,
   "metadata": {},
   "outputs": [
    {
     "data": {
      "text/plain": [
       "'to be or not to be obedient sebastian so please you sir i am no prospero but to be endured prospero i have done so much more long of his love to be ta en from me prospero that i have been to have her in which will not have it wiselier no nor no my good lord prospero i have prospero that i have done mine own is my consent and mine my slave my spirit is more than my fancy miranda my ass miranda yes lucentio thou canst not choose prospero miranda miranda sir prospero sir prospero sir what cerns you of my master'"
      ]
     },
     "execution_count": 60,
     "metadata": {},
     "output_type": "execute_result"
    }
   ],
   "source": [
    "gru.predict(input_text=\"To be or not to be\",\n",
    "            max_tokens=100)"
   ]
  },
  {
   "cell_type": "markdown",
   "metadata": {},
   "source": [
    "Conclusion: despite limitations on dataset and training resource, the model generates nearly grammatical correct sample."
   ]
  }
 ],
 "metadata": {
  "accelerator": "GPU",
  "colab": {
   "gpuType": "T4",
   "provenance": []
  },
  "kernelspec": {
   "display_name": "torch_gpu",
   "language": "python",
   "name": "python3"
  },
  "language_info": {
   "codemirror_mode": {
    "name": "ipython",
    "version": 3
   },
   "file_extension": ".py",
   "mimetype": "text/x-python",
   "name": "python",
   "nbconvert_exporter": "python",
   "pygments_lexer": "ipython3",
   "version": "3.12.7"
  }
 },
 "nbformat": 4,
 "nbformat_minor": 0
}
