{
  "cells": [
    {
      "cell_type": "code",
      "execution_count": 3,
      "metadata": {
        "id": "QhlHFiTtN9KS"
      },
      "outputs": [],
      "source": [
        "import numpy as np\n",
        "import matplotlib.pyplot as plt\n",
        "import random"
      ]
    },
    {
      "cell_type": "code",
      "execution_count": null,
      "metadata": {
        "id": "VHmneEpElwv_"
      },
      "outputs": [],
      "source": [
        "def conditional_random(arr, condition):\n",
        "  filtered_indices = [(i, x) for i, x in enumerate(arr) if condition(x)]\n",
        "  if filtered_indices:\n",
        "    return random.choice(filtered_indices)"
      ]
    },
    {
      "cell_type": "markdown",
      "metadata": {
        "id": "S77NVcQCN9KW"
      },
      "source": [
        "# Lab 2: The perceptron - Linear classifier\n",
        "\n",
        "## Coding the Perceptron Algorithm\n",
        "Time to code! In this exercise, you'll have the chance to implement the perceptron algorithm to separate the following data (given in the file data.csv). Implement the perceptron algorithm, using the step activation function\n",
        "\n",
        "We can think of the perceptron as the simplest neural network, composed by a single artificial neuron. An artificial neuron is a function of the input $x=(x_1, \\ldots, x_N)^\\top$ weighted by a vector of connection weights $W=(w_1, \\ldots, w_N)^\\top$, completed by a neuron bias $b$ and passed to an activation function $\\phi$. Its output is $\\hat{y}=\\phi(f)$.\n",
        "\n",
        "<center><img src='https://drive.google.com/uc?id=1evxKu_fUtTHd05f3H19GfFfTaac3weQs' width='300',height='300'/> </center>\n",
        "$$ \\hat{y} = \\phi(W^\\top x + b )$$\n",
        "\n",
        "\n",
        "Learning with the perceptron consists in updating the weights: $W'= W + \\eta (y_i -\\hat{y_i})x_i , i \\in \\{1, \\ldots, M\\}$ where $\\eta$ is the learning rate, $y_i$ is the correct output for the input $x_i$ and $M$ is the size of the training set."
      ]
    },
    {
      "cell_type": "code",
      "execution_count": null,
      "metadata": {
        "colab": {
          "base_uri": "https://localhost:8080/",
          "height": 452
        },
        "id": "LUhLB3FMN9KX",
        "outputId": "bb27f25a-de2b-4699-a0eb-19ee560cc1a5"
      },
      "outputs": [
        {
          "data": {
            "image/png": "[encoded data removed]",
            "text/plain": [
              "<Figure size 640x480 with 1 Axes>"
            ]
          },
          "metadata": {},
          "output_type": "display_data"
        }
      ],
      "source": [
        "# Load the dataset in the example file \"data1.txt\"\n",
        "# (Attention! Similar to TP1, create the folder \"data\" and put all data files inside.)\n",
        "data = np.loadtxt('/content/drive/MyDrive/Colab Notebooks/TP2-lab2/data/data1.txt', delimiter=',')\n",
        "\n",
        "X = data[:, 0:2]\n",
        "y = data[:, 2]\n",
        "\n",
        "# Plot data\n",
        "plt.plot(X[:,0][y == 1], X[:,1][y == 1], 'r+')\n",
        "plt.plot(X[:,0][y == 0], X[:,1][y == 0], 'bx')\n",
        "plt.title(\"data\")\n",
        "plt.show()\n"
      ]
    },
    {
      "cell_type": "markdown",
      "metadata": {
        "id": "mf7-uy7BN9KY"
      },
      "source": [
        "### **Task**: Implement the perceptron algorithm using the step activation function\n",
        "\n",
        "<img src='https://drive.google.com/uc?export=view&id=1xQzhraj2Uipr0oJ5xhotTAMj96ODl7Ga'/>\n",
        "\n",
        "See more details of Perceptron Learning Algorithm <a href='https://ai-master.gitbooks.io/perceptron/content/pla.html'>here</a>."
      ]
    },
    {
      "cell_type": "code",
      "execution_count": null,
      "metadata": {
        "id": "p1vqS0W3N9KY"
      },
      "outputs": [],
      "source": [
        "def step_activation(x):\n",
        "    # Step activation\n",
        "    if x > 0 :\n",
        "        return 1\n",
        "    else :\n",
        "        return 0\n",
        "\n",
        "def prediction(W, X, b):\n",
        "    return step_activation((np.matmul(W.T,X)+b)[0])\n",
        "\n",
        "def perceptron(W, b, X, y, lr):\n",
        "    \"\"\"\n",
        "    Args:\n",
        "\n",
        "    W (np.array)  : (INPUT_SHAPE, 1) vector of weights\n",
        "    b             : bias\n",
        "    X (np.array)  : (INPUT_SHAPE, 1) input vector\n",
        "    y             : output label (1 or 0)\n",
        "    lr            : learning rate\n",
        "\n",
        "    Returns:\n",
        "    (err, W, b)   : err is 1 if the predicted label is different from y, 0 otherwise\n",
        "        W, b      : The updated weights and bias\n",
        "    \"\"\"\n",
        "    # Insert your solution here\n",
        "    y_pred = prediction(W, X, b)\n",
        "    diff = y - y_pred\n",
        "\n",
        "    if diff == 0: return (0, W, b)\n",
        "\n",
        "    W_upd = W + diff*X\n",
        "    b_upd = b + diff\n",
        "\n",
        "\n",
        "    return (1, W_upd, b_upd)\n"
      ]
    },
    {
      "cell_type": "code",
      "execution_count": null,
      "metadata": {
        "colab": {
          "base_uri": "https://localhost:8080/",
          "height": 485
        },
        "id": "kQgg0TUSN9KZ",
        "outputId": "ed0fa043-8e85-4a61-8e3e-5b6bfb82cdf9"
      },
      "outputs": [
        {
          "name": "stderr",
          "output_type": "stream",
          "text": [
            "<ipython-input-21-13121ac410cc>:25: DeprecationWarning: Conversion of an array with ndim > 0 to a scalar is deprecated, and will error in future. Ensure you extract a single element from your array before performing this operation. (Deprecated NumPy 1.25.)\n",
            "  z[i, j] = W[0]*u[i]+W[1]*v[j]+b\n"
          ]
        },
        {
          "data": {
            "image/png": "[encoded data removed]",
            "text/plain": [
              "<Figure size 640x480 with 1 Axes>"
            ]
          },
          "metadata": {},
          "output_type": "display_data"
        }
      ],
      "source": [
        "#initialize weights and b\n",
        "b = 0.0\n",
        "W = np.random.normal(size=(X.shape[1], 1))\n",
        "\n",
        "errors=1\n",
        "while errors > 0:\n",
        "    # start epoch\n",
        "    errors=0\n",
        "    for i in range(X.shape[0]):\n",
        "        xi = X[i,:].reshape(-1,1)\n",
        "        yi = y[i]\n",
        "        (err, W, b) = perceptron(W,b,xi,yi, 0.1)\n",
        "        errors+=err\n",
        "\n",
        "#plot decision boundary\n",
        "fig, ax = plt.subplots()\n",
        "ax.plot(X[:,0][y == 1], X[:,1][y == 1], 'r+', label=\"$y=1$\")\n",
        "ax.plot(X[:,0][y == 0], X[:,1][y == 0], 'bx', label=\"$y=0$\")\n",
        "u = np.linspace(min(X[:, 0]),max(X[:, 0]), 200)\n",
        "v = np.linspace(min(X[:, 1]),max(X[:, 1]), 200)\n",
        "z = np.zeros(shape=(len(u), len(v)))\n",
        "for i in range(len(u)):\n",
        "    for j in range(len(v)):\n",
        "        x = np.array([[u[i],v[j]]])\n",
        "        z[i, j] = W[0]*u[i]+W[1]*v[j]+b\n",
        "CS=plt.contour(u,v,z.T)\n",
        "plt.clabel(CS, inline=1, fontsize=10)\n",
        "plt.show()"
      ]
    },
    {
      "cell_type": "markdown",
      "metadata": {
        "id": "HjiSDRSiN9KZ"
      },
      "source": [
        "#  Lab 2: Supervised Classification\n",
        "\n",
        "## Logistic Regression and Gradient Descent\n",
        "\n",
        "\n",
        "In linear regression, we got a real-valued response\n",
        "\n",
        "$$y = \\theta_0 + \\theta_1 x_1 + \\cdots + \\theta_d x_d$$\n",
        "    \n",
        "i.e., a linear combination of inputs, where $y \\in \\mathbb{R}$.\n",
        "\n",
        "<div class=\"alert alert-block alert-info\">\n",
        "\n",
        "Note: in this lab we are going to use $\\theta$ to denotate the parameters, instead of $\\beta$ as we introduced in the first lab\n",
        "\n",
        "</div>\n",
        "\n",
        "In classification, we want an *indication* of how likely an instance is to belong to a particular class; a probability $\\in [0,1]$.  \n",
        "\n",
        "Given a real valued $z$, we can squish it to range $\\sigma(z) \\in [0,1]$ by feeding it through the **logistic function** aka **sigmoid function**:\n",
        "\n",
        "\\begin{equation}\n",
        "\\sigma(z) = \\frac{1}{1+\\exp(-z)} \\hspace{1.5cm}\n",
        "\\end{equation}\n",
        "\n",
        "Which looks like this: ![Sigmoid](https://upload.wikimedia.org/wikipedia/commons/thumb/8/88/Logistic-curve.svg/320px-Logistic-curve.svg.png)\n",
        "\n",
        "Therefore, we can treat this as a probability, i.e.,\n",
        "\n",
        "\\begin{align*}\n",
        "P(y=1|\\mathbf{x}) &= \\sigma(\\mathbf{\\theta}^\\top\\mathbf{x}) \\\\\n",
        "P(y=0|\\mathbf{x}) &= 1 - \\sigma(\\mathbf{\\theta}^\\top\\mathbf{x})\n",
        "\\end{align*}\n",
        "\n",
        "where we omit the bias term and suppose that both $\\mathbf{\\theta}$ and $\\mathbf{x}$ are column vectors.\n",
        "\n",
        "> **Task 1**: Implement the sigmoid function $\\sigma$ defined above.\n"
      ]
    },
    {
      "cell_type": "code",
      "execution_count": 1,
      "metadata": {
        "id": "9dyGeZuLN9Ka"
      },
      "outputs": [],
      "source": [
        "def sigmoid(z):\n",
        "    # insert here the code for Task 1\n",
        "    return 1/(1+np.exp(-z))"
      ]
    },
    {
      "cell_type": "markdown",
      "metadata": {
        "id": "LN9M8G-dN9Ka"
      },
      "source": [
        "In order to chose values for the parameters of logistic regression, we use **maximum likelihood estimation** (MLE). As such we are going to have two steps:\n",
        "\n",
        "1. write the likelihood function;\n",
        "2. find the values of $\\theta$ that maximize the log-likelihood function.\n",
        "\n",
        "The labels that we are predicting are binary, this means that we can interpret each label as a Bernoulli random variable: $Y \\sim Ber(p)$ where $p = \\sigma(\\mathbf{\\theta}^\\top\\mathbf{x})$.\n",
        "\n",
        "Therefore, we can write the probability of a data point as:\n",
        "$$\n",
        "P\\left(Y=y|X=\\mathbf{x}\\right) = \\sigma(\\mathbf{\\theta}^\\top\\mathbf{x})^y \\cdot \\left[1-\\sigma(\\mathbf{\\theta}^\\top\\mathbf{x})\\right]^{(1-y)}\n",
        "$$\n",
        "\n",
        "With the probability mass function we can now write the **likelihood** of the whole dataset:\n",
        "\n",
        "\\begin{equation}\n",
        "L(\\theta) = \\prod_{i=1}^n P(Y = y_i|\\mathbf{X} = \\mathbf{x}_i) = \\prod_{i=1}^n \\sigma(\\mathbf{\\theta}^\\top\\mathbf{x}_i)^y_i \\cdot \\left[1-\\sigma(\\mathbf{\\theta}^\\top\\mathbf{x}_i)\\right]^{(1-y_i)} \\hspace{1.5cm}(2)\n",
        "\\end{equation}\n",
        "\n",
        "We can take the log of this function to transform the product into a sum and by doing that, we obtain the **log-likelihood**:\n",
        "\n",
        "\\begin{equation}\n",
        "LL(\\theta) = \\sum_{i=1}^n y_i\\log{\\sigma(\\mathbf{\\theta}^\\top\\mathbf{x}_i)} + (1-y_i) \\log{\\left[1-\\sigma(\\mathbf{\\theta}^\\top\\mathbf{x}_i)\\right]} \\hspace{1.5cm}(3)\n",
        "\\end{equation}\n",
        "\n",
        "As you will remember from first lab, our objective is to minimize the error that we do by fitting our model to the data. However, log-likelihood increases when the model is fitting better to the data. That's the reason why in logistic regression we take the *negative* log-likelihood (also known as **cost** function $E(\\theta)$).\n",
        "\n",
        "> **Task 2**: Implement the negative log likelihood, or cost function"
      ]
    },
    {
      "cell_type": "code",
      "execution_count": 2,
      "metadata": {
        "id": "3hyXQFltN9Kb"
      },
      "outputs": [],
      "source": [
        "def cost(w, X, y):\n",
        "  return -np.sum([y[i]*np.log(sigmoid(w.T@X[i])) + (1-y[i])*np.log(sigmoid(1-w.T@X[i]))])\n",
        "\n",
        "  # Computes the cost using w as the parameters for logistic regression.\n",
        "  # insert here your implementation"
      ]
    },
    {
      "cell_type": "markdown",
      "metadata": {
        "id": "kE3LVRl9N9Kb"
      },
      "source": [
        "As in OLS of the previous lab we want to find values of the parameters which minimize our cost function.\n",
        "\n",
        ">**Ques 1**:Derive the gradient of the cost function with respect to the model's parameters $\\nabla_{\\mathbf{\\theta}} E(\\mathbf{\\theta})$.\n",
        "\n",
        "<div class=\"alert alert-block alert-info\">\n",
        "Some hints:\n",
        "\n",
        "- you can use the expression of a Bernoulli distribution, $\\sigma_i^{y_i} (1-\\sigma_i)^{1-y_i}$ where $\\sigma_i \\equiv \\sigma(\\mathbf{\\theta}^\\top\\mathbf{x}_i)$.\n",
        "\n",
        "- A useful derivative: $\\sigma' = (1 - \\sigma)\\sigma$.\n",
        "</div>\n",
        "\n",
        "You'll notice that, unlike under OLS, it's not a closed form expression; you have $\\mathbf{\\theta}$ on the right hand side of the equation. Nevertheless, we can use numerical methods to find the optimal ${\\mathbf{\\theta}^*}$.\n",
        "\n",
        ">**Task 3**: Implement the gradient of the cost function (which you just derived above).\n"
      ]
    },
    {
      "cell_type": "code",
      "execution_count": null,
      "metadata": {
        "id": "gUNs6bWsN9Kb"
      },
      "outputs": [],
      "source": [
        "def compute_grad(w, X, y):\n",
        "    # Computes the gradient of the cost with respect to the parameters.\n",
        "\n",
        "    dE = np.zeros_like(w) # initialize gradient\n",
        "\n",
        "    # insert here your code\n",
        "    \n",
        "\n",
        "    return dE"
      ]
    },
    {
      "cell_type": "markdown",
      "metadata": {
        "id": "DPAXPeVwN9Kb"
      },
      "source": [
        "What we have now is a vector $\\mathbf{g} = \\nabla_{\\mathbf{\\theta}} E(\\mathbf{\\theta})$; the **gradient** of the cost function. Note that the dimensionality is the same as the input. We can move in the direction of the gradient and thus descend the function. This is the idea of **Gradient Descent**: we iteratively follow the gradient down the error surface. We repeatedly carry out\n",
        "\\begin{equation}\n",
        "\\mathbf{\\theta}_{t+1} = \\mathbf{\\theta}_{t} - \\alpha \\nabla_{\\mathbf{\\theta}} E(\\mathbf{\\theta}_t) \\hspace{1.5cm}(4)\n",
        "\\end{equation}\n",
        "\n",
        "where $\\alpha$ is the **learning rate**; for $t=1,2,\\ldots,T$, such that $\\mathbf{\\theta}^* \\gets \\mathbf{\\theta}_T$.\n"
      ]
    },
    {
      "cell_type": "markdown",
      "metadata": {
        "id": "D4CNo7PIN9Kc"
      },
      "source": [
        "Let's load the data and inspect the dataset"
      ]
    },
    {
      "cell_type": "code",
      "execution_count": 6,
      "metadata": {
        "colab": {
          "base_uri": "https://localhost:8080/",
          "height": 449
        },
        "id": "P73lUUYLN9Kc",
        "outputId": "efe7ecd0-64d1-4c6c-b1d7-be16047f1894"
      },
      "outputs": [
        {
          "data": {
            "image/png": "[encoded data removed]",
            "text/plain": [
              "<Figure size 432x288 with 1 Axes>"
            ]
          },
          "metadata": {
            "needs_background": "light"
          },
          "output_type": "display_data"
        }
      ],
      "source": [
        "# Load the dataset\n",
        "data = np.loadtxt('data.csv', delimiter=',')\n",
        "\n",
        "#Add intercept term\n",
        "data_1 = np.ones((data.shape[0], 4))\n",
        "data_1[:, 1:] = data\n",
        "\n",
        "# Standardize the data\n",
        "# (It will still work without standardization, but may behave erratically)\n",
        "data_1[:,1:3] = (data_1[:,1:3] - np.mean(data_1[:,1:3],axis=0)) / np.std(data_1[:,1:3],axis=0)\n",
        "\n",
        "X = data_1[:, 0:3]\n",
        "y = data_1[:, -1]\n",
        "\n",
        "# Plot data\n",
        "pos = np.where(y == 1) # instances of class 1\n",
        "neg = np.where(y == 0) # instances of class 0\n",
        "plt.scatter(X[pos, 1], X[pos, 2], marker='o', c='b')\n",
        "plt.scatter(X[neg, 1], X[neg, 2], marker='x', c='r')\n",
        "plt.xlabel('Exam 1 score')\n",
        "plt.ylabel('Exam 2 score')\n",
        "plt.legend(['Admitted', 'Not Admitted'])\n",
        "plt.show()\n",
        "\n",
        "\n",
        "N = X.shape[0]\n",
        "\n",
        "# Initialize fitting parameters\n",
        "theta = np.random.randn(3,1) * 0.05"
      ]
    },
    {
      "cell_type": "markdown",
      "metadata": {
        "id": "Itf4_nxON9Kc"
      },
      "source": [
        "Now all it's remaining to do is to find the optimal parameters using gradient descent\n",
        "\n",
        "> **Task 4**: Use the functions implemented so far to implement gradient descent, Eq.(4), for a fixed number of steps (say, $T=10\\,000$) and learning rate to (say, $\\alpha=0.005$)."
      ]
    },
    {
      "cell_type": "code",
      "execution_count": null,
      "metadata": {
        "id": "Av8n8dCLN9Kc"
      },
      "outputs": [],
      "source": [
        "alpha = 0.005\n",
        "T = 10000\n",
        "\n",
        "for i in range(T):\n",
        "    # insert here your code\n",
        "    pass"
      ]
    },
    {
      "cell_type": "markdown",
      "metadata": {
        "id": "Wi6oEYNVN9Kd"
      },
      "source": [
        "> **Task 5**: Implement a function to provide predictions $\\hat{\\mathbf{y}} \\in \\{0,1\\}$ for any given $\\mathbf{x}$ and $\\hat{\\mathbf{\\theta}}$ (from the previous task) by assigning $\\hat{\\mathbf{y}}_i = 1$ whenever $\\sigma_i \\geq 0.5$. In other words, you turn logistic regression into a **classifier**."
      ]
    },
    {
      "cell_type": "code",
      "execution_count": null,
      "metadata": {
        "id": "50joemtnN9Kd"
      },
      "outputs": [],
      "source": [
        "def predict(w, X):\n",
        "    # Predict whether each label is 0 or 1 using learned logistic regression parameters w. The threshold is set at 0.5\n",
        "\n",
        "    N = X.shape[0] # number of examples\n",
        "    yp = np.zeros(N) # predicted classes of examples\n",
        "\n",
        "    # insert here your code\n",
        "    return yp"
      ]
    },
    {
      "cell_type": "markdown",
      "metadata": {
        "id": "9gx3E09wN9Kd"
      },
      "source": [
        "There is data provided in the *data/* folder. Suppose that each column represents an exam score during a course, with the class label indicated *admitted* or not into a Masters program at some university. We want a model to give the probability that a student will be admitted based on the two grades of two courses. Some plotting code is already provided.\n",
        "\n",
        "> **Task 6**: Make a train-test split of the data provided and evaluate your classifier (similarly to as in the first lab). Output and/or plot the error $E(\\mathbf{\\theta}_t)$ both on the training **and** test set, for $t=1,\\ldots,T$.\n"
      ]
    },
    {
      "cell_type": "code",
      "execution_count": null,
      "metadata": {
        "id": "0yjdzi5XN9Kd"
      },
      "outputs": [],
      "source": []
    },
    {
      "cell_type": "markdown",
      "metadata": {
        "id": "xzDyJIQ9N9Kd"
      },
      "source": [
        "> **Ques 2**: Knowing that the cost function is convex, are you convinced that with a suitable learning rate, gradient descent will always converge to the minimum? What are some examples of poor learning rates?\n",
        "\n",
        "> **Task 7**: Following your considerations in the previous question -- can you find a better learning rate, such that you reduce error more efficiently (for smaller $T$?)."
      ]
    },
    {
      "cell_type": "markdown",
      "metadata": {
        "id": "x4jc4mRBN9Ke"
      },
      "source": [
        "> **Task 8**: Instead of the whole training set, select a random subset (i.e., minibatch) of 10 examples for each iteration. This is known as **stochastic gradient descent**."
      ]
    },
    {
      "cell_type": "code",
      "execution_count": null,
      "metadata": {
        "id": "-dpPMimFN9Ke"
      },
      "outputs": [],
      "source": []
    },
    {
      "cell_type": "markdown",
      "metadata": {
        "id": "aOi5tGIoN9Ke"
      },
      "source": [
        "> **Ques 3**: What are the advantages of stochastic gradient descent over classical gradient descent? (Especially with a non-convex loss function)."
      ]
    }
  ],
  "metadata": {
    "colab": {
      "provenance": []
    },
    "kernelspec": {
      "display_name": "Python 3 (ipykernel)",
      "language": "python",
      "name": "python3"
    },
    "language_info": {
      "codemirror_mode": {
        "name": "ipython",
        "version": 3
      },
      "file_extension": ".py",
      "mimetype": "text/x-python",
      "name": "python",
      "nbconvert_exporter": "python",
      "pygments_lexer": "ipython3",
      "version": "3.10.12"
    }
  },
  "nbformat": 4,
  "nbformat_minor": 0
}
