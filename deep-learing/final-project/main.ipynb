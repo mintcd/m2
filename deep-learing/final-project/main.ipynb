{
 "cells": [
  {
   "cell_type": "code",
   "execution_count": 59,
   "metadata": {},
   "outputs": [],
   "source": [
    "import pandas as pd\n",
    "from io import BytesIO\n",
    "from zipfile import ZipFile\n",
    "import requests\n",
    "import os\n",
    "from functools import reduce\n",
    "from itertools import chain\n",
    "import matplotlib.pyplot as plt"
   ]
  },
  {
   "cell_type": "code",
   "execution_count": null,
   "metadata": {},
   "outputs": [],
   "source": [
    "import kaggle\n",
    "import os\n",
    "\n",
    "os.environ['KAGGLE_USERNAME'] = \"\"\n",
    "os.environ['KAGGLE_KEY'] = \"\"\n",
    "\n",
    "!kaggle datasets download -d skylarkphantom/mit-datacenter-challenge-data\n",
    "\n",
    "# Unzip the file\n",
    "with ZipFile(\"mit-datacenter-challenge-data.zip\", 'r') as zip_ref:\n",
    "    zip_ref.extractall(\"mit_data\")"
   ]
  },
  {
   "cell_type": "code",
   "execution_count": null,
   "metadata": {},
   "outputs": [],
   "source": [
    "!kaggle datasets download -d skylarkphantom/mit-datacenter-challenge-data"
   ]
  },
  {
   "cell_type": "code",
   "execution_count": null,
   "metadata": {},
   "outputs": [],
   "source": [
    "# Unzip the file\n",
    "with ZipFile(\"mit-datacenter-challenge-data.zip\", 'r') as zip_ref:\n",
    "    zip_ref.extractall(\"mit_data\")\n",
    "\n",
    "# Load the specific CSV file\n"
   ]
  },
  {
   "cell_type": "code",
   "execution_count": 64,
   "metadata": {},
   "outputs": [
    {
     "data": {
      "text/plain": [
       "Index(['id_array_job', 'id_array_task', 'id_user', 'kill_requid',\n",
       "       'nodes_alloc', 'nodelist', 'cpus_req', 'derived_ec', 'exit_code',\n",
       "       'gres_req', 'gres_alloc', 'gres_used', 'array_max_tasks',\n",
       "       'array_task_pending', 'constraints', 'flags', 'mem_req', 'partition',\n",
       "       'priority', 'state', 'timelimit', 'time_submit', 'time_eligible',\n",
       "       'time_start', 'time_end', 'time_suspended', 'track_steps', 'tres_alloc',\n",
       "       'tres_req', 'job_type', 'id_job'],\n",
       "      dtype='object')"
      ]
     },
     "execution_count": 64,
     "metadata": {},
     "output_type": "execute_result"
    }
   ],
   "source": [
    "df = pd.read_csv(\"mit_data/scheduler_data.csv\")\n",
    "df.columns"
   ]
  },
  {
   "cell_type": "code",
   "execution_count": 9,
   "metadata": {},
   "outputs": [
    {
     "data": {
      "text/plain": [
       "286885"
      ]
     },
     "execution_count": 9,
     "metadata": {},
     "output_type": "execute_result"
    }
   ],
   "source": [
    "len(df['id_user']) - len(df['id_user'].unique())"
   ]
  },
  {
   "cell_type": "code",
   "execution_count": 57,
   "metadata": {},
   "outputs": [
    {
     "data": {
      "text/plain": [
       "191073"
      ]
     },
     "execution_count": 57,
     "metadata": {},
     "output_type": "execute_result"
    }
   ],
   "source": [
    "len(df['time_start']) - len(df['time_start'].unique())"
   ]
  },
  {
   "cell_type": "code",
   "execution_count": 58,
   "metadata": {},
   "outputs": [
    {
     "data": {
      "text/plain": [
       "287173"
      ]
     },
     "execution_count": 58,
     "metadata": {},
     "output_type": "execute_result"
    }
   ],
   "source": [
    "len(df['time_start'])"
   ]
  },
  {
   "cell_type": "code",
   "execution_count": 10,
   "metadata": {},
   "outputs": [
    {
     "name": "stdout",
     "output_type": "stream",
     "text": [
      "User ID with the most appearances: 41415979807\n",
      "Number of appearances: 165386\n"
     ]
    }
   ],
   "source": [
    "# Get the user with the highest occurrence\n",
    "most_frequent_user = df['id_user'].value_counts().idxmax()\n",
    "most_frequent_user_count = df['id_user'].value_counts().max()\n",
    "\n",
    "print(f\"User ID with the most appearances: {most_frequent_user}\")\n",
    "print(f\"Number of appearances: {most_frequent_user_count}\")"
   ]
  },
  {
   "cell_type": "code",
   "execution_count": 24,
   "metadata": {},
   "outputs": [],
   "source": [
    "df['nodelist'] = df['nodelist'].str.slice(1, -1)\n",
    "df['nodelist'] = df['nodelist'].str.split(',')"
   ]
  },
  {
   "cell_type": "code",
   "execution_count": null,
   "metadata": {},
   "outputs": [],
   "source": [
    "unique_nodes = set(chain.from_iterable(df['nodelist']))"
   ]
  },
  {
   "cell_type": "code",
   "execution_count": 37,
   "metadata": {},
   "outputs": [],
   "source": [
    "nodes = list(chain.from_iterable(df['nodelist']))"
   ]
  },
  {
   "cell_type": "code",
   "execution_count": 38,
   "metadata": {},
   "outputs": [
    {
     "data": {
      "text/plain": [
       "494531"
      ]
     },
     "execution_count": 38,
     "metadata": {},
     "output_type": "execute_result"
    }
   ],
   "source": [
    "len(nodes)"
   ]
  },
  {
   "cell_type": "code",
   "execution_count": 14,
   "metadata": {},
   "outputs": [
    {
     "data": {
      "text/plain": [
       "287173"
      ]
     },
     "execution_count": 14,
     "metadata": {},
     "output_type": "execute_result"
    }
   ],
   "source": [
    "len(nodes)"
   ]
  },
  {
   "cell_type": "code",
   "execution_count": 12,
   "metadata": {},
   "outputs": [
    {
     "data": {
      "text/html": [
       "<div>\n",
       "<style scoped>\n",
       "    .dataframe tbody tr th:only-of-type {\n",
       "        vertical-align: middle;\n",
       "    }\n",
       "\n",
       "    .dataframe tbody tr th {\n",
       "        vertical-align: top;\n",
       "    }\n",
       "\n",
       "    .dataframe thead th {\n",
       "        text-align: right;\n",
       "    }\n",
       "</style>\n",
       "<table border=\"1\" class=\"dataframe\">\n",
       "  <thead>\n",
       "    <tr style=\"text-align: right;\">\n",
       "      <th></th>\n",
       "      <th>id_array_job</th>\n",
       "      <th>id_array_task</th>\n",
       "      <th>id_user</th>\n",
       "      <th>kill_requid</th>\n",
       "      <th>nodes_alloc</th>\n",
       "      <th>nodelist</th>\n",
       "      <th>cpus_req</th>\n",
       "      <th>derived_ec</th>\n",
       "      <th>exit_code</th>\n",
       "      <th>gres_req</th>\n",
       "      <th>...</th>\n",
       "      <th>time_submit</th>\n",
       "      <th>time_eligible</th>\n",
       "      <th>time_start</th>\n",
       "      <th>time_end</th>\n",
       "      <th>time_suspended</th>\n",
       "      <th>track_steps</th>\n",
       "      <th>tres_alloc</th>\n",
       "      <th>tres_req</th>\n",
       "      <th>job_type</th>\n",
       "      <th>id_job</th>\n",
       "    </tr>\n",
       "  </thead>\n",
       "  <tbody>\n",
       "    <tr>\n",
       "      <th>9542</th>\n",
       "      <td>41161693674</td>\n",
       "      <td>4595979483</td>\n",
       "      <td>41415979807</td>\n",
       "      <td>51671871839</td>\n",
       "      <td>1</td>\n",
       "      <td>['r1900814-n172107']</td>\n",
       "      <td>1</td>\n",
       "      <td>0</td>\n",
       "      <td>0</td>\n",
       "      <td>gpu:2</td>\n",
       "      <td>...</td>\n",
       "      <td>7802094</td>\n",
       "      <td>7802094</td>\n",
       "      <td>7802094</td>\n",
       "      <td>7802103</td>\n",
       "      <td>-1</td>\n",
       "      <td>0</td>\n",
       "      <td>1=1,2=9600,4=1,5=1,1001=2</td>\n",
       "      <td>1=1,2=9600,4=1,5=1,1001=2</td>\n",
       "      <td>OTHER</td>\n",
       "      <td>29849133170</td>\n",
       "    </tr>\n",
       "    <tr>\n",
       "      <th>9543</th>\n",
       "      <td>41161693674</td>\n",
       "      <td>4595979483</td>\n",
       "      <td>41415979807</td>\n",
       "      <td>51671871839</td>\n",
       "      <td>1</td>\n",
       "      <td>['r6959555-n172107']</td>\n",
       "      <td>1</td>\n",
       "      <td>0</td>\n",
       "      <td>0</td>\n",
       "      <td>gpu:2</td>\n",
       "      <td>...</td>\n",
       "      <td>7802128</td>\n",
       "      <td>7802128</td>\n",
       "      <td>7802128</td>\n",
       "      <td>7802329</td>\n",
       "      <td>-1</td>\n",
       "      <td>0</td>\n",
       "      <td>1=1,2=9600,4=1,5=1,1001=2</td>\n",
       "      <td>1=1,2=9600,4=1,5=1,1001=2</td>\n",
       "      <td>OTHER</td>\n",
       "      <td>8328006237</td>\n",
       "    </tr>\n",
       "    <tr>\n",
       "      <th>9544</th>\n",
       "      <td>41161693674</td>\n",
       "      <td>4595979483</td>\n",
       "      <td>41415979807</td>\n",
       "      <td>51671871839</td>\n",
       "      <td>1</td>\n",
       "      <td>['r1900814-n172107']</td>\n",
       "      <td>1</td>\n",
       "      <td>0</td>\n",
       "      <td>0</td>\n",
       "      <td>gpu:2</td>\n",
       "      <td>...</td>\n",
       "      <td>7802136</td>\n",
       "      <td>7802136</td>\n",
       "      <td>7802136</td>\n",
       "      <td>7802328</td>\n",
       "      <td>-1</td>\n",
       "      <td>0</td>\n",
       "      <td>1=1,2=9600,4=1,5=1,1001=2</td>\n",
       "      <td>1=1,2=9600,4=1,5=1,1001=2</td>\n",
       "      <td>OTHER</td>\n",
       "      <td>46700920486</td>\n",
       "    </tr>\n",
       "    <tr>\n",
       "      <th>9545</th>\n",
       "      <td>41161693674</td>\n",
       "      <td>4595979483</td>\n",
       "      <td>41415979807</td>\n",
       "      <td>51671871839</td>\n",
       "      <td>1</td>\n",
       "      <td>['r204106-n172107']</td>\n",
       "      <td>1</td>\n",
       "      <td>0</td>\n",
       "      <td>33280</td>\n",
       "      <td>gpu:2</td>\n",
       "      <td>...</td>\n",
       "      <td>7802137</td>\n",
       "      <td>7802137</td>\n",
       "      <td>7802137</td>\n",
       "      <td>7802328</td>\n",
       "      <td>-1</td>\n",
       "      <td>0</td>\n",
       "      <td>1=1,2=9600,4=1,5=1,1001=2</td>\n",
       "      <td>1=1,2=9600,4=1,5=1,1001=2</td>\n",
       "      <td>OTHER</td>\n",
       "      <td>9757122442</td>\n",
       "    </tr>\n",
       "    <tr>\n",
       "      <th>9547</th>\n",
       "      <td>41161693674</td>\n",
       "      <td>4595979483</td>\n",
       "      <td>41415979807</td>\n",
       "      <td>51671871839</td>\n",
       "      <td>1</td>\n",
       "      <td>['r1051355-n172107']</td>\n",
       "      <td>1</td>\n",
       "      <td>0</td>\n",
       "      <td>0</td>\n",
       "      <td>gpu:2</td>\n",
       "      <td>...</td>\n",
       "      <td>7802139</td>\n",
       "      <td>7802139</td>\n",
       "      <td>7802139</td>\n",
       "      <td>7802331</td>\n",
       "      <td>-1</td>\n",
       "      <td>0</td>\n",
       "      <td>1=1,2=9600,4=1,5=1,1001=2</td>\n",
       "      <td>1=1,2=9600,4=1,5=1,1001=2</td>\n",
       "      <td>OTHER</td>\n",
       "      <td>38076546964</td>\n",
       "    </tr>\n",
       "  </tbody>\n",
       "</table>\n",
       "<p>5 rows × 31 columns</p>\n",
       "</div>"
      ],
      "text/plain": [
       "      id_array_job  id_array_task      id_user  kill_requid  nodes_alloc  \\\n",
       "9542   41161693674     4595979483  41415979807  51671871839            1   \n",
       "9543   41161693674     4595979483  41415979807  51671871839            1   \n",
       "9544   41161693674     4595979483  41415979807  51671871839            1   \n",
       "9545   41161693674     4595979483  41415979807  51671871839            1   \n",
       "9547   41161693674     4595979483  41415979807  51671871839            1   \n",
       "\n",
       "                  nodelist  cpus_req  derived_ec  exit_code gres_req  ...  \\\n",
       "9542  ['r1900814-n172107']         1           0          0    gpu:2  ...   \n",
       "9543  ['r6959555-n172107']         1           0          0    gpu:2  ...   \n",
       "9544  ['r1900814-n172107']         1           0          0    gpu:2  ...   \n",
       "9545   ['r204106-n172107']         1           0      33280    gpu:2  ...   \n",
       "9547  ['r1051355-n172107']         1           0          0    gpu:2  ...   \n",
       "\n",
       "     time_submit  time_eligible  time_start  time_end time_suspended  \\\n",
       "9542     7802094        7802094     7802094   7802103             -1   \n",
       "9543     7802128        7802128     7802128   7802329             -1   \n",
       "9544     7802136        7802136     7802136   7802328             -1   \n",
       "9545     7802137        7802137     7802137   7802328             -1   \n",
       "9547     7802139        7802139     7802139   7802331             -1   \n",
       "\n",
       "      track_steps                 tres_alloc                   tres_req  \\\n",
       "9542            0  1=1,2=9600,4=1,5=1,1001=2  1=1,2=9600,4=1,5=1,1001=2   \n",
       "9543            0  1=1,2=9600,4=1,5=1,1001=2  1=1,2=9600,4=1,5=1,1001=2   \n",
       "9544            0  1=1,2=9600,4=1,5=1,1001=2  1=1,2=9600,4=1,5=1,1001=2   \n",
       "9545            0  1=1,2=9600,4=1,5=1,1001=2  1=1,2=9600,4=1,5=1,1001=2   \n",
       "9547            0  1=1,2=9600,4=1,5=1,1001=2  1=1,2=9600,4=1,5=1,1001=2   \n",
       "\n",
       "      job_type       id_job  \n",
       "9542     OTHER  29849133170  \n",
       "9543     OTHER   8328006237  \n",
       "9544     OTHER  46700920486  \n",
       "9545     OTHER   9757122442  \n",
       "9547     OTHER  38076546964  \n",
       "\n",
       "[5 rows x 31 columns]"
      ]
     },
     "execution_count": 12,
     "metadata": {},
     "output_type": "execute_result"
    }
   ],
   "source": [
    "# Identify the most frequent user\n",
    "most_frequent_user = df['id_user'].value_counts().idxmax()\n",
    "\n",
    "# Filter the DataFrame to rows where this user appears\n",
    "user_data = df[df['id_user'] == most_frequent_user]\n",
    "\n",
    "# Display a few rows of data for this user\n",
    "user_data.head()"
   ]
  },
  {
   "cell_type": "code",
   "execution_count": null,
   "metadata": {},
   "outputs": [],
   "source": [
    "# Set time_start as the index\n",
    "df['time_submit'] = pd.to_datetime(user_data['time_submit'], unit='s')\n",
    "df['time_start'] = pd.to_datetime(user_data['time_start'], unit='s')\n",
    "df['time_end'] = pd.to_datetime(user_data['time_end'], unit='s')\n",
    "df['duration'] = df['time_end'] - df['time_start']\n",
    "df.reset_index('time_start', inplace=True)"
   ]
  },
  {
   "cell_type": "code",
   "execution_count": 73,
   "metadata": {},
   "outputs": [],
   "source": [
    "time_stamps = df.index"
   ]
  },
  {
   "cell_type": "code",
   "execution_count": 74,
   "metadata": {},
   "outputs": [
    {
     "data": {
      "text/plain": [
       "DatetimeIndex([                'NaT',                 'NaT',\n",
       "                               'NaT', '1970-04-01 14:09:48',\n",
       "               '1970-04-01 14:09:53', '1970-04-01 14:10:21',\n",
       "               '1969-12-31 23:59:59', '1969-12-31 23:59:59',\n",
       "               '1970-04-01 14:16:03', '1970-04-01 14:16:03',\n",
       "               ...\n",
       "                               'NaT',                 'NaT',\n",
       "                               'NaT',                 'NaT',\n",
       "                               'NaT',                 'NaT',\n",
       "                               'NaT',                 'NaT',\n",
       "                               'NaT',                 'NaT'],\n",
       "              dtype='datetime64[ns]', name='time_start', length=287173, freq=None)"
      ]
     },
     "execution_count": 74,
     "metadata": {},
     "output_type": "execute_result"
    }
   ],
   "source": [
    "time_stamps"
   ]
  },
  {
   "cell_type": "code",
   "execution_count": null,
   "metadata": {},
   "outputs": [],
   "source": [
    "# Resample to one-second frequency and sum the durations (or count the jobs)\n",
    "time_series_df = df.resample('s').agg(total_duration=('duration', 'sum')).fillna(pd.Timedelta(0))\n",
    "\n",
    "# Convert total_duration to seconds for plotting\n",
    "time_series_df['total_duration_seconds'] = time_series_df['total_duration'].dt.total_seconds()\n",
    "\n",
    "# Plotting the total workload every second\n",
    "plt.figure(figsize=(12, 6))\n",
    "plt.plot(time_series_df.index, time_series_df['total_duration_seconds'], marker='o')\n",
    "plt.title('Total Workload Over Time (every second)')\n",
    "plt.xlabel('Time')\n",
    "plt.ylabel('Total Duration (seconds)')\n",
    "plt.grid()\n",
    "plt.show()"
   ]
  },
  {
   "cell_type": "code",
   "execution_count": 61,
   "metadata": {},
   "outputs": [
    {
     "data": {
      "text/plain": [
       "time_start\n",
       "1969-12-31 23:00:00    641297539634\n",
       "1970-01-01 00:00:00               3\n",
       "1970-01-01 01:00:00               1\n",
       "1970-01-01 02:00:00               0\n",
       "1970-01-01 03:00:00               0\n",
       "Freq: h, Name: total_duration, dtype: int64"
      ]
     },
     "execution_count": 61,
     "metadata": {},
     "output_type": "execute_result"
    }
   ],
   "source": [
    "time_series_df['total_duration'].head()"
   ]
  },
  {
   "cell_type": "code",
   "execution_count": 42,
   "metadata": {},
   "outputs": [],
   "source": [
    "user_data['time_submit'] = pd.to_datetime(user_data['time_submit'], unit='s')\n",
    "user_data['time_start'] = pd.to_datetime(user_data['time_start'], unit='s')\n",
    "user_data['time_end'] = pd.to_datetime(user_data['time_end'], unit='s')\n",
    "user_data['duration'] = df['time_end'] - df['time_start']"
   ]
  },
  {
   "cell_type": "code",
   "execution_count": 48,
   "metadata": {},
   "outputs": [
    {
     "data": {
      "text/html": [
       "<div>\n",
       "<style scoped>\n",
       "    .dataframe tbody tr th:only-of-type {\n",
       "        vertical-align: middle;\n",
       "    }\n",
       "\n",
       "    .dataframe tbody tr th {\n",
       "        vertical-align: top;\n",
       "    }\n",
       "\n",
       "    .dataframe thead th {\n",
       "        text-align: right;\n",
       "    }\n",
       "</style>\n",
       "<table border=\"1\" class=\"dataframe\">\n",
       "  <thead>\n",
       "    <tr style=\"text-align: right;\">\n",
       "      <th></th>\n",
       "      <th>time_start</th>\n",
       "      <th>duration</th>\n",
       "    </tr>\n",
       "  </thead>\n",
       "  <tbody>\n",
       "    <tr>\n",
       "      <th>275934</th>\n",
       "      <td>1970-12-16 11:21:00</td>\n",
       "      <td>43226</td>\n",
       "    </tr>\n",
       "    <tr>\n",
       "      <th>276172</th>\n",
       "      <td>1970-12-18 16:28:50</td>\n",
       "      <td>517032</td>\n",
       "    </tr>\n",
       "    <tr>\n",
       "      <th>277186</th>\n",
       "      <td>1970-12-22 10:18:37</td>\n",
       "      <td>43228</td>\n",
       "    </tr>\n",
       "    <tr>\n",
       "      <th>283121</th>\n",
       "      <td>1970-12-30 10:54:30</td>\n",
       "      <td>185912</td>\n",
       "    </tr>\n",
       "    <tr>\n",
       "      <th>284786</th>\n",
       "      <td>1971-01-02 22:01:29</td>\n",
       "      <td>208533</td>\n",
       "    </tr>\n",
       "  </tbody>\n",
       "</table>\n",
       "</div>"
      ],
      "text/plain": [
       "                time_start  duration\n",
       "275934 1970-12-16 11:21:00     43226\n",
       "276172 1970-12-18 16:28:50    517032\n",
       "277186 1970-12-22 10:18:37     43228\n",
       "283121 1970-12-30 10:54:30    185912\n",
       "284786 1971-01-02 22:01:29    208533"
      ]
     },
     "execution_count": 48,
     "metadata": {},
     "output_type": "execute_result"
    }
   ],
   "source": [
    "user_data[['time_start', 'duration']].tail(5)"
   ]
  },
  {
   "cell_type": "code",
   "execution_count": 49,
   "metadata": {},
   "outputs": [],
   "source": [
    "df['time_start'] = pd.to_datetime(df['time_start'], unit='s')"
   ]
  },
  {
   "cell_type": "code",
   "execution_count": 56,
   "metadata": {},
   "outputs": [
    {
     "data": {
      "text/plain": [
       "152758   1969-12-31 23:59:59\n",
       "46159    1969-12-31 23:59:59\n",
       "46160    1969-12-31 23:59:59\n",
       "46161    1969-12-31 23:59:59\n",
       "104683   1969-12-31 23:59:59\n",
       "Name: time_start, dtype: datetime64[ns]"
      ]
     },
     "execution_count": 56,
     "metadata": {},
     "output_type": "execute_result"
    }
   ],
   "source": [
    "df['time_start'].sort_values().head()"
   ]
  }
 ],
 "metadata": {
  "kernelspec": {
   "display_name": "torch_gpu",
   "language": "python",
   "name": "python3"
  },
  "language_info": {
   "codemirror_mode": {
    "name": "ipython",
    "version": 3
   },
   "file_extension": ".py",
   "mimetype": "text/x-python",
   "name": "python",
   "nbconvert_exporter": "python",
   "pygments_lexer": "ipython3",
   "version": "3.12.2"
  }
 },
 "nbformat": 4,
 "nbformat_minor": 2
}
