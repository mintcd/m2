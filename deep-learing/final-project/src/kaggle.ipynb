{
 "cells": [
  {
   "cell_type": "code",
   "execution_count": 59,
   "metadata": {},
   "outputs": [],
   "source": [
    "from zipfile import ZipFile\n",
    "import kaggle\n",
    "import os"
   ]
  },
  {
   "cell_type": "code",
   "execution_count": null,
   "metadata": {},
   "outputs": [],
   "source": [
    "os.environ['KAGGLE_USERNAME'] = \"philosophylibrary\"\n",
    "os.environ['KAGGLE_KEY'] = \"e8ede4914c39bd7bd392b1407d585076\"\n",
    "\n",
    "!kaggle datasets download -d skylarkphantom/mit-datacenter-challenge-data\n",
    "\n",
    "with ZipFile(\"mit-datacenter-challenge-data.zip\", 'r') as zip_ref:\n",
    "    zip_ref.extractall(\"mit_data\")"
   ]
  }
 ],
 "metadata": {
  "kernelspec": {
   "display_name": "torch_gpu",
   "language": "python",
   "name": "python3"
  },
  "language_info": {
   "codemirror_mode": {
    "name": "ipython",
    "version": 3
   },
   "file_extension": ".py",
   "mimetype": "text/x-python",
   "name": "python",
   "nbconvert_exporter": "python",
   "pygments_lexer": "ipython3",
   "version": "3.12.2"
  }
 },
 "nbformat": 4,
 "nbformat_minor": 2
}
