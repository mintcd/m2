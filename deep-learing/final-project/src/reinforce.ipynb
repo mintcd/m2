{
 "cells": [
  {
   "cell_type": "code",
   "execution_count": 2,
   "metadata": {},
   "outputs": [],
   "source": [
    "import numpy as np\n",
    "import pandas as pd\n",
    "import gymnasium as gym\n",
    "from gymnasium import spaces\n",
    "from copy import deepcopy\n",
    "\n",
    "from sb3_contrib import MaskablePPO\n",
    "from sb3_contrib.common.maskable.utils import get_action_masks\n",
    "from sb3_contrib.common.wrappers import ActionMasker\n",
    "from sb3_contrib.common.maskable.policies import MaskableActorCriticPolicy"
   ]
  },
  {
   "cell_type": "markdown",
   "metadata": {},
   "source": [
    "### Prepare the dataset"
   ]
  },
  {
   "cell_type": "code",
   "execution_count": 3,
   "metadata": {},
   "outputs": [
    {
     "data": {
      "text/plain": [
       "[{'time': 0.0, 'complexity': 0.05},\n",
       " {'time': 1.0, 'complexity': 0.016666666666666666},\n",
       " {'time': 9.0, 'complexity': 22.283333333333335},\n",
       " {'time': 10.0, 'complexity': 19.95},\n",
       " {'time': 11.0, 'complexity': 2.033333333333333}]"
      ]
     },
     "execution_count": 3,
     "metadata": {},
     "output_type": "execute_result"
    }
   ],
   "source": [
    "tasks = pd.read_csv(r\"complexity_by_hour.csv\")\n",
    "tasks['hourly_time'] = pd.to_datetime(tasks['hourly_time'])\n",
    "tasks['time'] = (tasks['hourly_time'] - tasks['hourly_time'].iloc[0]).dt.total_seconds() / 3600 \n",
    "tasks['complexity'] = tasks['task_complexity'] / 60\n",
    "tasks = tasks[['time', 'complexity']]\n",
    "\n",
    "tasks = tasks.to_dict(orient='records')\n",
    "tasks[:5]"
   ]
  },
  {
   "cell_type": "code",
   "execution_count": 4,
   "metadata": {},
   "outputs": [],
   "source": [
    "TRAIN_SIZE = int(len(tasks) * 0.9)"
   ]
  },
  {
   "cell_type": "markdown",
   "metadata": {},
   "source": [
    "### Define the Environment"
   ]
  },
  {
   "cell_type": "code",
   "execution_count": null,
   "metadata": {},
   "outputs": [],
   "source": [
    "class TaskSchedulingEnv(gym.Env):\n",
    "    def __init__(self, N_total_nodes, total_tasks):\n",
    "        super(TaskSchedulingEnv, self).__init__()\n",
    "\n",
    "        self.waiting_capacity = 10000  # Maximum waiting tasks\n",
    "        self.N_total_nodes = N_total_nodes\n",
    "        self.total_tasks = deepcopy(total_tasks)\n",
    "\n",
    "        self.upcoming_tasks = self.total_tasks.copy()\n",
    "        self.waiting_tasks = []\n",
    "        self.executing_tasks = []\n",
    "        self.available_nodes = self.N_total_nodes\n",
    "        self.current_time = self.total_tasks[0]['time']\n",
    "\n",
    "        self.average_waiting_time = 0\n",
    "        self.num_executed_tasks = 0\n",
    "\n",
    "        self.observation_space = spaces.Box(\n",
    "                low=0, high=np.inf, shape=(1 + self.waiting_capacity,), dtype=np.int32\n",
    "            )\n",
    "        self.action_space = spaces.Discrete(self.N_total_nodes + 1)\n",
    "        self.state = np.array([self.available_nodes] + [0] * self.waiting_capacity, dtype=np.int32)\n",
    "\n",
    "    def reset(self, seed=42, options=None):\n",
    "        super().reset(seed=seed)\n",
    "\n",
    "        self.upcoming_tasks = self.total_tasks.copy()\n",
    "        self.waiting_tasks = []\n",
    "        self.executing_tasks = []\n",
    "        self.available_nodes = self.N_total_nodes\n",
    "        self.current_time = self.total_tasks[0]['time']\n",
    "\n",
    "        padded_waiting_times = [0] * self.waiting_capacity\n",
    "        state = np.array([self.available_nodes] + padded_waiting_times, dtype=np.int32)\n",
    "\n",
    "        return state, {}\n",
    "\n",
    "    def step(self, action):\n",
    "        # Validate the action\n",
    "        if action < 0 or action > self.available_nodes:\n",
    "            return self.state, -1000, False, False, {}\n",
    "\n",
    "        # Add new task to waiting list\n",
    "        if self.upcoming_tasks and self.current_time == self.upcoming_tasks[0]['time']:\n",
    "            self.upcoming_tasks[0]['waiting_time'] = 0\n",
    "            self.waiting_tasks.append(self.upcoming_tasks.pop(0))\n",
    "\n",
    "        # Update executing tasks\n",
    "        for task in self.executing_tasks:\n",
    "            task['complexity'] -= task['nodes_alloc']\n",
    "            if task['complexity'] <= 0:\n",
    "                self.available_nodes += task['nodes_alloc']\n",
    "                self.average_waiting_time = (self.average_waiting_time*self.num_executed_tasks + task['waiting_time'])/(self.num_executed_tasks+1)\n",
    "                self.num_executed_tasks += 1\n",
    "\n",
    "        self.executing_tasks = [task for task in self.executing_tasks if task['complexity'] > 0]\n",
    "\n",
    "        # Allocate nodes to the first waiting task\n",
    "        if self.waiting_tasks and action > 0:\n",
    "            self.waiting_tasks[0]['nodes_alloc'] = int(action)\n",
    "            self.executing_tasks.append(self.waiting_tasks.pop(0))\n",
    "            self.available_nodes -= action\n",
    "\n",
    "        # Update waiting times\n",
    "        for task in self.waiting_tasks:\n",
    "            task['waiting_time'] += 1\n",
    "\n",
    "        # Compute next state\n",
    "        waiting_times = [task['waiting_time'] for task in self.waiting_tasks]\n",
    "        padded_waiting_times = waiting_times + [0] * (self.waiting_capacity - len(waiting_times))\n",
    "\n",
    "        state = np.array([self.available_nodes] + padded_waiting_times, dtype=np.int32)\n",
    "        reward = -np.sum(waiting_times)\n",
    "        done = len(self.upcoming_tasks) == 0 and len(self.waiting_tasks) == 0\n",
    "\n",
    "        # print(f\"Time: {self.current_time}. Allocated {action} nodes. Waiting tasks: {self.waiting_tasks}\")\n",
    "\n",
    "        self.current_time += 1\n",
    "        return state, reward, done, False, {}\n",
    "\n",
    "    def get_action_mask(self):\n",
    "        # Generate a binary mask for valid actions\n",
    "        mask = np.zeros(self.N_total_nodes + 1, dtype=np.int32)\n",
    "        if self.available_nodes == 0:\n",
    "            mask[0] = 1\n",
    "        else:\n",
    "          for i in range(1, self.available_nodes + 1):\n",
    "              mask[i] = 1\n",
    "        return mask\n",
    "    \n",
    "    def get_average_waiting_times(self):\n",
    "        remaining_waiting_time = np.sum([np.ceil(task['complexity']/task['nodes_alloc']) for task in self.executing_tasks])\n",
    "        return (self.average_waiting_time*self.num_executed_tasks + remaining_waiting_time)/(self.num_executed_tasks + len(self.executing_tasks))\n",
    "      "
   ]
  },
  {
   "cell_type": "markdown",
   "metadata": {},
   "source": [
    "### Train the Model"
   ]
  },
  {
   "cell_type": "code",
   "execution_count": null,
   "metadata": {},
   "outputs": [],
   "source": [
    "env = TaskSchedulingEnv(N_total_nodes=5, total_tasks=tasks[:10])\n",
    "def action_mask(env: TaskSchedulingEnv):\n",
    "    return env.get_action_mask()\n",
    "\n",
    "wrapped_env = ActionMasker(env, action_mask)\n",
    "\n",
    "model = MaskablePPO(MaskableActorCriticPolicy, wrapped_env, verbose=1)\n",
    "model.learn(total_timesteps=100000)"
   ]
  },
  {
   "cell_type": "markdown",
   "metadata": {},
   "source": [
    "### Inference"
   ]
  },
  {
   "cell_type": "code",
   "execution_count": 162,
   "metadata": {},
   "outputs": [
    {
     "name": "stdout",
     "output_type": "stream",
     "text": [
      "Time: 0.0. Available nodes: 5.\n",
      "Action: 1. Reward: -0.0. Executing: [{'time': 0.0, 'complexity': -7.95, 'waiting_time': 0, 'nodes_alloc': 1}]. Waiting: []. Upcoming: [{'time': 1.0, 'complexity': -3.9833333333333334, 'waiting_time': 0, 'nodes_alloc': 1}, {'time': 9.0, 'complexity': -6.716666666666665, 'waiting_time': 0, 'nodes_alloc': 4}, {'time': 10.0, 'complexity': -4.050000000000001, 'waiting_time': 0, 'nodes_alloc': 1}, {'time': 11.0, 'complexity': -5.966666666666667, 'waiting_time': 0, 'nodes_alloc': 4}, {'time': 12.0, 'complexity': -3.9833333333333334, 'waiting_time': 0, 'nodes_alloc': 1}, {'time': 13.0, 'complexity': 5019.266666666666, 'waiting_time': 0, 'nodes_alloc': 2}, {'time': 14.0, 'complexity': 465956.55, 'waiting_time': 0, 'nodes_alloc': 3}, {'time': 15.0, 'complexity': -1.849999999999909, 'waiting_time': 935, 'nodes_alloc': 2}, {'time': 16.0, 'complexity': 6754.55, 'waiting_time': 934, 'nodes_alloc': 1}]\n",
      "Time: 1.0. Available nodes: 4.\n",
      "Action: 1. Reward: -0.0. Executing: [{'time': 1.0, 'complexity': -3.9833333333333334, 'waiting_time': 0, 'nodes_alloc': 1}]. Waiting: []. Upcoming: [{'time': 9.0, 'complexity': -6.716666666666665, 'waiting_time': 0, 'nodes_alloc': 4}, {'time': 10.0, 'complexity': -4.050000000000001, 'waiting_time': 0, 'nodes_alloc': 1}, {'time': 11.0, 'complexity': -5.966666666666667, 'waiting_time': 0, 'nodes_alloc': 4}, {'time': 12.0, 'complexity': -3.9833333333333334, 'waiting_time': 0, 'nodes_alloc': 1}, {'time': 13.0, 'complexity': 5019.266666666666, 'waiting_time': 0, 'nodes_alloc': 2}, {'time': 14.0, 'complexity': 465956.55, 'waiting_time': 0, 'nodes_alloc': 3}, {'time': 15.0, 'complexity': -1.849999999999909, 'waiting_time': 935, 'nodes_alloc': 2}, {'time': 16.0, 'complexity': 6754.55, 'waiting_time': 934, 'nodes_alloc': 1}]\n",
      "Time: 2.0. Available nodes: 4.\n",
      "Action: 1. Reward: -0.0. Executing: []. Waiting: []. Upcoming: [{'time': 9.0, 'complexity': -6.716666666666665, 'waiting_time': 0, 'nodes_alloc': 4}, {'time': 10.0, 'complexity': -4.050000000000001, 'waiting_time': 0, 'nodes_alloc': 1}, {'time': 11.0, 'complexity': -5.966666666666667, 'waiting_time': 0, 'nodes_alloc': 4}, {'time': 12.0, 'complexity': -3.9833333333333334, 'waiting_time': 0, 'nodes_alloc': 1}, {'time': 13.0, 'complexity': 5019.266666666666, 'waiting_time': 0, 'nodes_alloc': 2}, {'time': 14.0, 'complexity': 465956.55, 'waiting_time': 0, 'nodes_alloc': 3}, {'time': 15.0, 'complexity': -1.849999999999909, 'waiting_time': 935, 'nodes_alloc': 2}, {'time': 16.0, 'complexity': 6754.55, 'waiting_time': 934, 'nodes_alloc': 1}]\n",
      "Time: 3.0. Available nodes: 5.\n",
      "Action: 1. Reward: -0.0. Executing: []. Waiting: []. Upcoming: [{'time': 9.0, 'complexity': -6.716666666666665, 'waiting_time': 0, 'nodes_alloc': 4}, {'time': 10.0, 'complexity': -4.050000000000001, 'waiting_time': 0, 'nodes_alloc': 1}, {'time': 11.0, 'complexity': -5.966666666666667, 'waiting_time': 0, 'nodes_alloc': 4}, {'time': 12.0, 'complexity': -3.9833333333333334, 'waiting_time': 0, 'nodes_alloc': 1}, {'time': 13.0, 'complexity': 5019.266666666666, 'waiting_time': 0, 'nodes_alloc': 2}, {'time': 14.0, 'complexity': 465956.55, 'waiting_time': 0, 'nodes_alloc': 3}, {'time': 15.0, 'complexity': -1.849999999999909, 'waiting_time': 935, 'nodes_alloc': 2}, {'time': 16.0, 'complexity': 6754.55, 'waiting_time': 934, 'nodes_alloc': 1}]\n",
      "Time: 4.0. Available nodes: 5.\n",
      "Action: 1. Reward: -0.0. Executing: []. Waiting: []. Upcoming: [{'time': 9.0, 'complexity': -6.716666666666665, 'waiting_time': 0, 'nodes_alloc': 4}, {'time': 10.0, 'complexity': -4.050000000000001, 'waiting_time': 0, 'nodes_alloc': 1}, {'time': 11.0, 'complexity': -5.966666666666667, 'waiting_time': 0, 'nodes_alloc': 4}, {'time': 12.0, 'complexity': -3.9833333333333334, 'waiting_time': 0, 'nodes_alloc': 1}, {'time': 13.0, 'complexity': 5019.266666666666, 'waiting_time': 0, 'nodes_alloc': 2}, {'time': 14.0, 'complexity': 465956.55, 'waiting_time': 0, 'nodes_alloc': 3}, {'time': 15.0, 'complexity': -1.849999999999909, 'waiting_time': 935, 'nodes_alloc': 2}, {'time': 16.0, 'complexity': 6754.55, 'waiting_time': 934, 'nodes_alloc': 1}]\n",
      "Time: 5.0. Available nodes: 5.\n",
      "Action: 1. Reward: -0.0. Executing: []. Waiting: []. Upcoming: [{'time': 9.0, 'complexity': -6.716666666666665, 'waiting_time': 0, 'nodes_alloc': 4}, {'time': 10.0, 'complexity': -4.050000000000001, 'waiting_time': 0, 'nodes_alloc': 1}, {'time': 11.0, 'complexity': -5.966666666666667, 'waiting_time': 0, 'nodes_alloc': 4}, {'time': 12.0, 'complexity': -3.9833333333333334, 'waiting_time': 0, 'nodes_alloc': 1}, {'time': 13.0, 'complexity': 5019.266666666666, 'waiting_time': 0, 'nodes_alloc': 2}, {'time': 14.0, 'complexity': 465956.55, 'waiting_time': 0, 'nodes_alloc': 3}, {'time': 15.0, 'complexity': -1.849999999999909, 'waiting_time': 935, 'nodes_alloc': 2}, {'time': 16.0, 'complexity': 6754.55, 'waiting_time': 934, 'nodes_alloc': 1}]\n",
      "Time: 6.0. Available nodes: 5.\n",
      "Action: 1. Reward: -0.0. Executing: []. Waiting: []. Upcoming: [{'time': 9.0, 'complexity': -6.716666666666665, 'waiting_time': 0, 'nodes_alloc': 4}, {'time': 10.0, 'complexity': -4.050000000000001, 'waiting_time': 0, 'nodes_alloc': 1}, {'time': 11.0, 'complexity': -5.966666666666667, 'waiting_time': 0, 'nodes_alloc': 4}, {'time': 12.0, 'complexity': -3.9833333333333334, 'waiting_time': 0, 'nodes_alloc': 1}, {'time': 13.0, 'complexity': 5019.266666666666, 'waiting_time': 0, 'nodes_alloc': 2}, {'time': 14.0, 'complexity': 465956.55, 'waiting_time': 0, 'nodes_alloc': 3}, {'time': 15.0, 'complexity': -1.849999999999909, 'waiting_time': 935, 'nodes_alloc': 2}, {'time': 16.0, 'complexity': 6754.55, 'waiting_time': 934, 'nodes_alloc': 1}]\n",
      "Time: 7.0. Available nodes: 5.\n",
      "Action: 1. Reward: -0.0. Executing: []. Waiting: []. Upcoming: [{'time': 9.0, 'complexity': -6.716666666666665, 'waiting_time': 0, 'nodes_alloc': 4}, {'time': 10.0, 'complexity': -4.050000000000001, 'waiting_time': 0, 'nodes_alloc': 1}, {'time': 11.0, 'complexity': -5.966666666666667, 'waiting_time': 0, 'nodes_alloc': 4}, {'time': 12.0, 'complexity': -3.9833333333333334, 'waiting_time': 0, 'nodes_alloc': 1}, {'time': 13.0, 'complexity': 5019.266666666666, 'waiting_time': 0, 'nodes_alloc': 2}, {'time': 14.0, 'complexity': 465956.55, 'waiting_time': 0, 'nodes_alloc': 3}, {'time': 15.0, 'complexity': -1.849999999999909, 'waiting_time': 935, 'nodes_alloc': 2}, {'time': 16.0, 'complexity': 6754.55, 'waiting_time': 934, 'nodes_alloc': 1}]\n",
      "Time: 8.0. Available nodes: 5.\n",
      "Action: 1. Reward: -0.0. Executing: []. Waiting: []. Upcoming: [{'time': 9.0, 'complexity': -6.716666666666665, 'waiting_time': 0, 'nodes_alloc': 4}, {'time': 10.0, 'complexity': -4.050000000000001, 'waiting_time': 0, 'nodes_alloc': 1}, {'time': 11.0, 'complexity': -5.966666666666667, 'waiting_time': 0, 'nodes_alloc': 4}, {'time': 12.0, 'complexity': -3.9833333333333334, 'waiting_time': 0, 'nodes_alloc': 1}, {'time': 13.0, 'complexity': 5019.266666666666, 'waiting_time': 0, 'nodes_alloc': 2}, {'time': 14.0, 'complexity': 465956.55, 'waiting_time': 0, 'nodes_alloc': 3}, {'time': 15.0, 'complexity': -1.849999999999909, 'waiting_time': 935, 'nodes_alloc': 2}, {'time': 16.0, 'complexity': 6754.55, 'waiting_time': 934, 'nodes_alloc': 1}]\n",
      "Time: 9.0. Available nodes: 5.\n",
      "Action: 1. Reward: -0.0. Executing: [{'time': 9.0, 'complexity': -6.716666666666665, 'waiting_time': 0, 'nodes_alloc': 1}]. Waiting: []. Upcoming: [{'time': 10.0, 'complexity': -4.050000000000001, 'waiting_time': 0, 'nodes_alloc': 1}, {'time': 11.0, 'complexity': -5.966666666666667, 'waiting_time': 0, 'nodes_alloc': 4}, {'time': 12.0, 'complexity': -3.9833333333333334, 'waiting_time': 0, 'nodes_alloc': 1}, {'time': 13.0, 'complexity': 5019.266666666666, 'waiting_time': 0, 'nodes_alloc': 2}, {'time': 14.0, 'complexity': 465956.55, 'waiting_time': 0, 'nodes_alloc': 3}, {'time': 15.0, 'complexity': -1.849999999999909, 'waiting_time': 935, 'nodes_alloc': 2}, {'time': 16.0, 'complexity': 6754.55, 'waiting_time': 934, 'nodes_alloc': 1}]\n",
      "Time: 10.0. Available nodes: 4.\n",
      "Action: 1. Reward: -0.0. Executing: [{'time': 10.0, 'complexity': -4.050000000000001, 'waiting_time': 0, 'nodes_alloc': 1}]. Waiting: []. Upcoming: [{'time': 11.0, 'complexity': -5.966666666666667, 'waiting_time': 0, 'nodes_alloc': 4}, {'time': 12.0, 'complexity': -3.9833333333333334, 'waiting_time': 0, 'nodes_alloc': 1}, {'time': 13.0, 'complexity': 5019.266666666666, 'waiting_time': 0, 'nodes_alloc': 2}, {'time': 14.0, 'complexity': 465956.55, 'waiting_time': 0, 'nodes_alloc': 3}, {'time': 15.0, 'complexity': -1.849999999999909, 'waiting_time': 935, 'nodes_alloc': 2}, {'time': 16.0, 'complexity': 6754.55, 'waiting_time': 934, 'nodes_alloc': 1}]\n",
      "Time: 11.0. Available nodes: 4.\n",
      "Action: 1. Reward: -0.0. Executing: [{'time': 11.0, 'complexity': -5.966666666666667, 'waiting_time': 0, 'nodes_alloc': 1}]. Waiting: []. Upcoming: [{'time': 12.0, 'complexity': -3.9833333333333334, 'waiting_time': 0, 'nodes_alloc': 1}, {'time': 13.0, 'complexity': 5019.266666666666, 'waiting_time': 0, 'nodes_alloc': 2}, {'time': 14.0, 'complexity': 465956.55, 'waiting_time': 0, 'nodes_alloc': 3}, {'time': 15.0, 'complexity': -1.849999999999909, 'waiting_time': 935, 'nodes_alloc': 2}, {'time': 16.0, 'complexity': 6754.55, 'waiting_time': 934, 'nodes_alloc': 1}]\n",
      "Time: 12.0. Available nodes: 4.\n",
      "Action: 1. Reward: -0.0. Executing: [{'time': 12.0, 'complexity': -3.9833333333333334, 'waiting_time': 0, 'nodes_alloc': 1}]. Waiting: []. Upcoming: [{'time': 13.0, 'complexity': 5019.266666666666, 'waiting_time': 0, 'nodes_alloc': 2}, {'time': 14.0, 'complexity': 465956.55, 'waiting_time': 0, 'nodes_alloc': 3}, {'time': 15.0, 'complexity': -1.849999999999909, 'waiting_time': 935, 'nodes_alloc': 2}, {'time': 16.0, 'complexity': 6754.55, 'waiting_time': 934, 'nodes_alloc': 1}]\n",
      "Time: 13.0. Available nodes: 4.\n",
      "Action: 1. Reward: -0.0. Executing: [{'time': 13.0, 'complexity': 5019.266666666666, 'waiting_time': 0, 'nodes_alloc': 1}]. Waiting: []. Upcoming: [{'time': 14.0, 'complexity': 465956.55, 'waiting_time': 0, 'nodes_alloc': 3}, {'time': 15.0, 'complexity': -1.849999999999909, 'waiting_time': 935, 'nodes_alloc': 2}, {'time': 16.0, 'complexity': 6754.55, 'waiting_time': 934, 'nodes_alloc': 1}]\n",
      "Time: 14.0. Available nodes: 4.\n",
      "Action: 1. Reward: -0.0. Executing: [{'time': 13.0, 'complexity': 5018.266666666666, 'waiting_time': 0, 'nodes_alloc': 1}, {'time': 14.0, 'complexity': 465956.55, 'waiting_time': 0, 'nodes_alloc': 1}]. Waiting: []. Upcoming: [{'time': 15.0, 'complexity': -1.849999999999909, 'waiting_time': 935, 'nodes_alloc': 2}, {'time': 16.0, 'complexity': 6754.55, 'waiting_time': 934, 'nodes_alloc': 1}]\n",
      "Time: 15.0. Available nodes: 3.\n",
      "Action: 1. Reward: -0.0. Executing: [{'time': 13.0, 'complexity': 5017.266666666666, 'waiting_time': 0, 'nodes_alloc': 1}, {'time': 14.0, 'complexity': 465955.55, 'waiting_time': 0, 'nodes_alloc': 1}, {'time': 15.0, 'complexity': -1.849999999999909, 'waiting_time': 0, 'nodes_alloc': 1}]. Waiting: []. Upcoming: [{'time': 16.0, 'complexity': 6754.55, 'waiting_time': 934, 'nodes_alloc': 1}]\n",
      "Time: 16.0. Available nodes: 2.\n",
      "Action: 1. Reward: -0.0. Executing: [{'time': 13.0, 'complexity': 5016.266666666666, 'waiting_time': 0, 'nodes_alloc': 1}, {'time': 14.0, 'complexity': 465954.55, 'waiting_time': 0, 'nodes_alloc': 1}, {'time': 16.0, 'complexity': 6754.55, 'waiting_time': 0, 'nodes_alloc': 1}]. Waiting: []. Upcoming: []\n",
      "Average waiting time: 16473.379310344826\n"
     ]
    }
   ],
   "source": [
    "obs, info = wrapped_env.reset()\n",
    "\n",
    "# Run inference loop\n",
    "while True:\n",
    "    # Get the current action mask\n",
    "    action_masks = get_action_masks(wrapped_env)\n",
    "    print(f\"Time: {wrapped_env.env.current_time}. Available nodes: {wrapped_env.env.available_nodes}.\")\n",
    "    \n",
    "    action, _ = model.predict(obs, action_masks=action_masks, deterministic=True)\n",
    "    obs, reward, done, truncated, info = wrapped_env.step(action)\n",
    "\n",
    "    print(f\"Action: {action}. Reward: {reward}. Executing: {wrapped_env.env.executing_tasks}. Waiting: {wrapped_env.env.waiting_tasks}. Upcoming: {wrapped_env.env.upcoming_tasks}\")\n",
    "    \n",
    "    # Exit the loop if the episode is finished\n",
    "    if done or truncated:\n",
    "        print(f\"Average waiting time: {wrapped_env.env.get_average_waiting_times()}\")\n",
    "        break"
   ]
  },
  {
   "cell_type": "code",
   "execution_count": 146,
   "metadata": {},
   "outputs": [
    {
     "data": {
      "text/plain": [
       "list"
      ]
     },
     "execution_count": 146,
     "metadata": {},
     "output_type": "execute_result"
    }
   ],
   "source": []
  }
 ],
 "metadata": {
  "kernelspec": {
   "display_name": "torch_gpu",
   "language": "python",
   "name": "python3"
  },
  "language_info": {
   "codemirror_mode": {
    "name": "ipython",
    "version": 3
   },
   "file_extension": ".py",
   "mimetype": "text/x-python",
   "name": "python",
   "nbconvert_exporter": "python",
   "pygments_lexer": "ipython3",
   "version": "3.12.7"
  }
 },
 "nbformat": 4,
 "nbformat_minor": 2
}
